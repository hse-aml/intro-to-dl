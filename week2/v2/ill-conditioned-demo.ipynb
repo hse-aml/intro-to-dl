{
 "cells": [
  {
   "cell_type": "markdown",
   "metadata": {},
   "source": [
    "Read about ill-conditioning: http://cnl.salk.edu/~schraudo/teach/NNcourse/precond.html"
   ],
   "execution_count": null,
   "outputs": []
  },
  {
   "cell_type": "code",
   "execution_count": null,
   "metadata": {},
   "outputs": [],
   "source": [
    "import tensorflow.compat.v1 as tf\n",
    "import sys\n",
    "sys.path.append(\"../..\")\n",
    "from keras_utils import reset_tf_session\n",
    "tf.disable_eager_execution()\n",
    "s = reset_tf_session()\n",
    "print(\"We're using TF\", tf.__version__)\n",
    "from matplotlib import animation, rc\n",
    "import matplotlib.pyplot as plt\n",
    "import matplotlib_utils\n",
    "from IPython.display import HTML, display_html\n",
    "import numpy as np"
   ]
  },
  {
   "cell_type": "code",
   "execution_count": null,
   "metadata": {},
   "outputs": [],
   "source": [
    "def plot_gd(x_scale, lr, steps):\n",
    "    y_guess = tf.Variable([1.5, 1.5], dtype='float32')\n",
    "    y_true = tf.constant([0.2, 0.2], dtype='float32')\n",
    "\n",
    "    # x is x_scale times more important in loss (creates valleys)\n",
    "    loss = tf.reduce_mean((tf.multiply(y_guess, tf.constant([x_scale, 1.])) - y_true)**2)\n",
    "\n",
    "    step = tf.train.GradientDescentOptimizer(lr).minimize(loss, var_list=y_guess)\n",
    "    \n",
    "    # nice figure settings\n",
    "    fig, ax = plt.subplots(figsize=(5, 5))\n",
    "    y_true_value = s.run(y_true)\n",
    "    level_x = np.arange(-2, 2, 0.05)\n",
    "    level_y = np.arange(-2, 2, 0.05)\n",
    "    X, Y = np.meshgrid(level_x, level_y)\n",
    "    Z = (X * x_scale - y_true_value[0])**2 + (Y - y_true_value[1])**2\n",
    "    ax.set_xlim(-2, 2)\n",
    "    ax.set_ylim(-2, 2)\n",
    "    s.run(tf.global_variables_initializer())\n",
    "    ax.scatter(*s.run(y_true), c='red')\n",
    "    contour = ax.contour(X, Y, Z, 10)\n",
    "    ax.clabel(contour, inline=1, fontsize=10)\n",
    "    line, = ax.plot([], [], lw=2)\n",
    "\n",
    "    # start animation with empty trajectory\n",
    "    def init():\n",
    "        line.set_data([], [])\n",
    "        return (line,)\n",
    "\n",
    "    trajectory = [s.run(y_guess)]\n",
    "\n",
    "    # one animation step (make one GD step)\n",
    "    def animate(i):\n",
    "        s.run(step)\n",
    "        trajectory.append(s.run(y_guess))\n",
    "        line.set_data(*zip(*trajectory))\n",
    "        return (line,)\n",
    "\n",
    "    anim = animation.FuncAnimation(fig, animate, init_func=init,\n",
    "                                   frames=steps, interval=20, blit=True)\n",
    "\n",
    "    anim.save(None, writer=matplotlib_utils.SimpleMovieWriter(0.0001))"
   ]
  },
  {
   "cell_type": "code",
   "execution_count": null,
   "metadata": {},
   "outputs": [],
   "source": [
    "plot_gd(x_scale=1.0, lr=0.1, steps=25)"
   ]
  },
  {
   "cell_type": "code",
   "execution_count": null,
     "metadata": {},
   "outputs": [],
   "source": [
    "# narrow valleys\n",
    "plot_gd(x_scale=0.5, lr=0.1, steps=25)"
   ]
  },
  {
   "cell_type": "code",
   "execution_count": null,
     "metadata": {},
   "outputs": [],
   "source": [
    "# narrower valleys\n",
    "plot_gd(x_scale=0.2, lr=0.1, steps=25)"
   ]
  },
  {
   "cell_type": "code",
   "execution_count": null,
     "metadata": {},
   "outputs": [],
   "source": [
    "# bigger learning rate then?\n",
    "# x is changed faster, but y changes are too big, leads to oscillation\n",
    "plot_gd(x_scale=0.2, lr=1.8, steps=25)"
   ]
  }
 ],
 "metadata": {
  "kernelspec": {
   "display_name": "Python 3",
   "language": "python",
   "name": "python3"
  },
  "language_info": {
   "codemirror_mode": {
    "name": "ipython",
    "version": 3
   },
   "file_extension": ".py",
   "mimetype": "text/x-python",
   "name": "python",
   "nbconvert_exporter": "python",
   "pygments_lexer": "ipython3",
   "version": "3.6.5"
  }
 },
 "nbformat": 4,
 "nbformat_minor": 1
}