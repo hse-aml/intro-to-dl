{
 "cells": [
  {
   "cell_type": "markdown",
   "metadata": {
    "slideshow": {
     "slide_type": "slide"
    }
   },
   "source": [
    "# Going deeper with Tensorflow\n",
    "\n",
    "In this video, we're going to study the tools you'll use to build deep learning models. Namely, [Tensorflow](https://www.tensorflow.org/).\n",
    "\n",
    "If you're running this notebook outside the course environment, you'll need to install tensorflow:\n",
    "* `pip install tensorflow` should install cpu-only TF on Linux & Mac OS\n",
    "* If you want GPU support from offset, see [TF install page](https://www.tensorflow.org/install/)"
   ]
  },
  {
   "cell_type": "code",
   "execution_count": 1,
   "metadata": {},
   "outputs": [],
   "source": [
    "import sys\n",
    "sys.path.append(\"..\")\n",
    "import grading"
   ]
  },
  {
   "cell_type": "code",
   "execution_count": null,
   "metadata": {},
   "outputs": [],
   "source": []
  },
  {
   "cell_type": "markdown",
   "metadata": {},
   "source": [
    "# Visualization"
   ]
  },
  {
   "cell_type": "markdown",
   "metadata": {},
   "source": [
    "Plase note that if you are running on the Coursera platform, you won't be able to access the tensorboard instance due to the network setup there. If you run the notebook locally, you should be able to access TensorBoard on http://127.0.0.1:7007/"
   ]
  },
  {
   "cell_type": "code",
   "execution_count": null,
   "metadata": {},
   "outputs": [],
   "source": [
    "! killall tensorboard\n",
    "import os\n",
    "os.system(\"tensorboard --logdir=/tmp/tboard --port=7007 &\");"
   ]
  },
  {
   "cell_type": "code",
   "execution_count": 2,
   "metadata": {},
   "outputs": [],
   "source": [
    "import tensorflow as tf\n",
    "s = tf.InteractiveSession()"
   ]
  },
  {
   "cell_type": "markdown",
   "metadata": {},
   "source": [
    "# Warming up\n",
    "For starters, let's implement a python function that computes the sum of squares of numbers from 0 to N-1."
   ]
  },
  {
   "cell_type": "code",
   "execution_count": 3,
   "metadata": {},
   "outputs": [],
   "source": [
    "import numpy as np\n",
    "def sum_sin(N):\n",
    "    return np.sum(np.arange(N)**2)"
   ]
  },
  {
   "cell_type": "code",
   "execution_count": 4,
   "metadata": {},
   "outputs": [
    {
     "name": "stdout",
     "output_type": "stream",
     "text": [
      "CPU times: user 7.28 ms, sys: 10.6 ms, total: 17.8 ms\n",
      "Wall time: 20.8 ms\n"
     ]
    },
    {
     "data": {
      "text/plain": [
       "333332833333500000"
      ]
     },
     "execution_count": 4,
     "metadata": {},
     "output_type": "execute_result"
    }
   ],
   "source": [
    "%%time\n",
    "sum_sin(10**6)"
   ]
  },
  {
   "cell_type": "markdown",
   "metadata": {},
   "source": [
    "# Tensoflow teaser\n",
    "\n",
    "Doing the very same thing"
   ]
  },
  {
   "cell_type": "code",
   "execution_count": 5,
   "metadata": {},
   "outputs": [],
   "source": [
    "# An integer parameter\n",
    "N = tf.placeholder('int64', name=\"input_to_your_function\")\n",
    "\n",
    "# A recipe on how to produce the same result\n",
    "result = tf.reduce_sum(tf.range(N)**2)"
   ]
  },
  {
   "cell_type": "code",
   "execution_count": 6,
   "metadata": {},
   "outputs": [
    {
     "data": {
      "text/plain": [
       "<tf.Tensor 'Sum:0' shape=() dtype=int64>"
      ]
     },
     "execution_count": 6,
     "metadata": {},
     "output_type": "execute_result"
    }
   ],
   "source": [
    "result"
   ]
  },
  {
   "cell_type": "code",
   "execution_count": 7,
   "metadata": {},
   "outputs": [
    {
     "name": "stdout",
     "output_type": "stream",
     "text": [
      "CPU times: user 11.1 ms, sys: 6.04 ms, total: 17.2 ms\n",
      "Wall time: 13.2 ms\n"
     ]
    },
    {
     "data": {
      "text/plain": [
       "333332833333500000"
      ]
     },
     "execution_count": 7,
     "metadata": {},
     "output_type": "execute_result"
    }
   ],
   "source": [
    "%%time\n",
    "result.eval({N: 10**6})"
   ]
  },
  {
   "cell_type": "code",
   "execution_count": 11,
   "metadata": {},
   "outputs": [],
   "source": [
    "writer = tf.summary.FileWriter(\"/tmp/tboard\", graph=s.graph)"
   ]
  },
  {
   "cell_type": "markdown",
   "metadata": {},
   "source": [
    "# How does it work?\n",
    "1. Define placeholders where you'll send inputs\n",
    "2. Make symbolic graph: a recipe for mathematical transformation of those placeholders\n",
    "3. Compute outputs of your graph with particular values for each placeholder\n",
    "  * `output.eval({placeholder:value})`\n",
    "  * `s.run(output, {placeholder:value})`\n",
    "\n",
    "So far there are two main entities: \"placeholder\" and \"transformation\"\n",
    "* Both can be numbers, vectors, matrices, tensors, etc.\n",
    "* Both can be int32/64, floats, booleans (uint8) of various size.\n",
    "\n",
    "* You can define new transformations as an arbitrary operation on placeholders and other transformations\n",
    " * `tf.reduce_sum(tf.arange(N)**2)` are 3 sequential transformations of placeholder `N`\n",
    " * There's a tensorflow symbolic version for every numpy function\n",
    "   * `a+b, a/b, a**b, ...` behave just like in numpy\n",
    "   * `np.mean` -> `tf.reduce_mean`\n",
    "   * `np.arange` -> `tf.range`\n",
    "   * `np.cumsum` -> `tf.cumsum`\n",
    "   * If if you can't find the op you need, see the [docs](https://www.tensorflow.org/api_docs/python).\n",
    "   \n",
    "`tf.contrib` has many high-level features, may be worth a look."
   ]
  },
  {
   "cell_type": "code",
   "execution_count": 12,
   "metadata": {},
   "outputs": [],
   "source": [
    "with tf.name_scope(\"Placeholders_examples\"):\n",
    "    # Default placeholder that can be arbitrary float32\n",
    "    # scalar, vertor, matrix, etc.\n",
    "    arbitrary_input = tf.placeholder('float32')\n",
    "\n",
    "    # Input vector of arbitrary length\n",
    "    input_vector = tf.placeholder('float32', shape=(None,))\n",
    "\n",
    "    # Input vector that _must_ have 10 elements and integer type\n",
    "    fixed_vector = tf.placeholder('int32', shape=(10,))\n",
    "\n",
    "    # Matrix of arbitrary n_rows and 15 columns\n",
    "    # (e.g. a minibatch your data table)\n",
    "    input_matrix = tf.placeholder('float32', shape=(None, 15))\n",
    "    \n",
    "    # You can generally use None whenever you don't need a specific shape\n",
    "    input1 = tf.placeholder('float64', shape=(None, 100, None))\n",
    "    input2 = tf.placeholder('int32', shape=(None, None, 3, 224, 224))\n",
    "\n",
    "    # elementwise multiplication\n",
    "    double_the_vector = input_vector*2\n",
    "\n",
    "    # elementwise cosine\n",
    "    elementwise_cosine = tf.cos(input_vector)\n",
    "\n",
    "    # difference between squared vector and vector itself plus one\n",
    "    vector_squares = input_vector**2 - input_vector + 1"
   ]
  },
  {
   "cell_type": "code",
   "execution_count": 13,
   "metadata": {},
   "outputs": [],
   "source": [
    "my_vector =  tf.placeholder('float32', shape=(None,), name=\"VECTOR_1\")\n",
    "my_vector2 = tf.placeholder('float32', shape=(None,))\n",
    "my_transformation = my_vector * my_vector2 / (tf.sin(my_vector) + 1)"
   ]
  },
  {
   "cell_type": "code",
   "execution_count": 14,
   "metadata": {},
   "outputs": [
    {
     "name": "stdout",
     "output_type": "stream",
     "text": [
      "Tensor(\"truediv:0\", shape=(?,), dtype=float32)\n"
     ]
    }
   ],
   "source": [
    "print(my_transformation)"
   ]
  },
  {
   "cell_type": "code",
   "execution_count": 15,
   "metadata": {},
   "outputs": [
    {
     "name": "stdout",
     "output_type": "stream",
     "text": [
      "[ 0.  1.  2.  3.  4.]\n"
     ]
    },
    {
     "data": {
      "text/plain": [
       "array([ 0.        ,  1.62913239,  2.09501147,  2.62899613,  0.        ], dtype=float32)"
      ]
     },
     "execution_count": 15,
     "metadata": {},
     "output_type": "execute_result"
    }
   ],
   "source": [
    "dummy = np.arange(5).astype('float32')\n",
    "print(dummy)\n",
    "my_transformation.eval({my_vector:dummy, my_vector2:dummy[::-1]})"
   ]
  },
  {
   "cell_type": "code",
   "execution_count": 16,
   "metadata": {},
   "outputs": [],
   "source": [
    "writer.add_graph(my_transformation.graph)\n",
    "writer.flush()"
   ]
  },
  {
   "cell_type": "markdown",
   "metadata": {},
   "source": [
    "TensorBoard allows writing scalars, images, audio, histogram. You can read more on tensorboard usage [here](https://www.tensorflow.org/get_started/graph_viz)."
   ]
  },
  {
   "cell_type": "markdown",
   "metadata": {},
   "source": [
    "# Summary\n",
    "* Tensorflow is based on computation graphs\n",
    "* The graphs consist of placehlders and transformations"
   ]
  },
  {
   "cell_type": "markdown",
   "metadata": {},
   "source": [
    "# Mean squared error\n",
    "\n",
    "Your assignment is to implement mean squared error in tensorflow."
   ]
  },
  {
   "cell_type": "code",
   "execution_count": 14,
   "metadata": {
    "collapsed": true
   },
   "outputs": [],
   "source": [
    "with tf.name_scope(\"MSE\"):\n",
    "    y_true = tf.placeholder(\"float32\", shape=(None,), name=\"y_true\")\n",
    "    y_predicted = tf.placeholder(\"float32\", shape=(None,), name=\"y_predicted\")\n",
    "    # Your code goes here\n",
    "    # You want to use tf.reduce_mean\n",
    "    # mse = tf.<...>\n",
    "def compute_mse(vector1, vector2):\n",
    "    return mse.eval({y_true: vector1, y_predicted: vector2})"
   ]
  },
  {
   "cell_type": "code",
   "execution_count": 15,
   "metadata": {
    "collapsed": true
   },
   "outputs": [],
   "source": [
    "writer.add_graph(mse.graph)\n",
    "writer.flush()"
   ]
  },
  {
   "cell_type": "markdown",
   "metadata": {},
   "source": [
    "Tests and result submission. Please use the credentials obtained from the Coursera assignment page."
   ]
  },
  {
   "cell_type": "code",
   "execution_count": 16,
   "metadata": {
    "collapsed": true
   },
   "outputs": [],
   "source": [
    "import submit"
   ]
  },
  {
   "cell_type": "code",
   "execution_count": 17,
   "metadata": {},
   "outputs": [
    {
     "name": "stdout",
     "output_type": "stream",
     "text": [
      "Submitted to Coursera platform. See results on assignment page!\n"
     ]
    }
   ],
   "source": [
    "submit.submit_mse(compute_mse, <your email>, <your token>)"
   ]
  },
  {
   "cell_type": "markdown",
   "metadata": {},
   "source": [
    "# Variables\n",
    "\n",
    "The inputs and transformations have no value outside function call. This isn't too comfortable if you want your model to have parameters (e.g. network weights) that are always present, but can change their value over time.\n",
    "\n",
    "Tensorflow solves this with `tf.Variable` objects.\n",
    "* You can assign variable a value at any time in your graph\n",
    "* Unlike placeholders, there's no need to explicitly pass values to variables when `s.run(...)`-ing\n",
    "* You can use variables the same way you use transformations \n",
    " "
   ]
  },
  {
   "cell_type": "code",
   "execution_count": 17,
   "metadata": {},
   "outputs": [],
   "source": [
    "# Creating a shared variable\n",
    "shared_vector_1 = tf.Variable(initial_value=np.ones(5),\n",
    "                              name=\"example_variable\")"
   ]
  },
  {
   "cell_type": "code",
   "execution_count": 18,
   "metadata": {},
   "outputs": [
    {
     "name": "stdout",
     "output_type": "stream",
     "text": [
      "Initial value [ 1.  1.  1.  1.  1.]\n"
     ]
    }
   ],
   "source": [
    "# Initialize variable(s) with initial values\n",
    "s.run(tf.global_variables_initializer())\n",
    "\n",
    "# Evaluating shared variable (outside symbolicd graph)\n",
    "print(\"Initial value\", s.run(shared_vector_1))\n",
    "\n",
    "# Within symbolic graph you use them just\n",
    "# as any other inout or transformation, not \"get value\" needed"
   ]
  },
  {
   "cell_type": "code",
   "execution_count": 19,
   "metadata": {},
   "outputs": [
    {
     "name": "stdout",
     "output_type": "stream",
     "text": [
      "New value [ 0.  1.  2.  3.  4.]\n"
     ]
    }
   ],
   "source": [
    "# Setting a new value\n",
    "s.run(shared_vector_1.assign(np.arange(5)))\n",
    "\n",
    "# Getting that new value\n",
    "print(\"New value\", s.run(shared_vector_1))"
   ]
  },
  {
   "cell_type": "markdown",
   "metadata": {},
   "source": [
    "# tf.gradients - why graphs matter\n",
    "* Tensorflow can compute derivatives and gradients automatically using the computation graph\n",
    "* True to its name it can manage matrix derivatives\n",
    "* Gradients are computed as a product of elementary derivatives via the chain rule:\n",
    "\n",
    "$$ {\\partial f(g(x)) \\over \\partial x} = {\\partial f(g(x)) \\over \\partial g(x)}\\cdot {\\partial g(x) \\over \\partial x} $$\n",
    "\n",
    "It can get you the derivative of any graph as long as it knows how to differentiate elementary operations"
   ]
  },
  {
   "cell_type": "code",
   "execution_count": 20,
   "metadata": {},
   "outputs": [],
   "source": [
    "my_scalar = tf.placeholder('float32')\n",
    "\n",
    "scalar_squared = my_scalar**2\n",
    "\n",
    "# A derivative of scalar_squared by my_scalar\n",
    "derivative = tf.gradients(scalar_squared, [my_scalar, ])"
   ]
  },
  {
   "cell_type": "code",
   "execution_count": 21,
   "metadata": {},
   "outputs": [
    {
     "data": {
      "text/plain": [
       "[<tf.Tensor 'gradients/pow_1_grad/Reshape:0' shape=<unknown> dtype=float32>]"
      ]
     },
     "execution_count": 21,
     "metadata": {},
     "output_type": "execute_result"
    }
   ],
   "source": [
    "derivative"
   ]
  },
  {
   "cell_type": "code",
   "execution_count": 22,
   "metadata": {},
   "outputs": [
    {
     "data": {
      "image/png": "[encoded data removed]",
      "text/plain": [
       "<matplotlib.figure.Figure at 0x7f5c5cf3f048>"
      ]
     },
     "metadata": {},
     "output_type": "display_data"
    }
   ],
   "source": [
    "import matplotlib.pyplot as plt\n",
    "%matplotlib inline\n",
    "\n",
    "x = np.linspace(-3, 3)\n",
    "x_squared, x_squared_der = s.run([scalar_squared, derivative[0]],\n",
    "                                 {my_scalar:x})\n",
    "\n",
    "plt.plot(x, x_squared,label=\"$x^2$\")\n",
    "plt.plot(x, x_squared_der, label=r\"$\\frac{dx^2}{dx}$\")\n",
    "plt.legend();"
   ]
  },
  {
   "cell_type": "markdown",
   "metadata": {},
   "source": [
    "# Why that rocks"
   ]
  },
  {
   "cell_type": "code",
   "execution_count": 23,
   "metadata": {},
   "outputs": [],
   "source": [
    "my_vector = tf.placeholder('float32', [None])\n",
    "# Compute the gradient of the next weird function over my_scalar and my_vector\n",
    "# Warning! Trying to understand the meaning of that function may result in permanent brain damage\n",
    "weird_psychotic_function = tf.reduce_mean(\n",
    "    (my_vector+my_scalar)**(1+tf.nn.moments(my_vector,[0])[1]) + \n",
    "    1./ tf.atan(my_scalar))/(my_scalar**2 + 1) + 0.01*tf.sin(\n",
    "    2*my_scalar**1.5)*(tf.reduce_sum(my_vector)* my_scalar**2\n",
    "                      )*tf.exp((my_scalar-4)**2)/(\n",
    "    1+tf.exp((my_scalar-4)**2))*(1.-(tf.exp(-(my_scalar-4)**2)\n",
    "                                    )/(1+tf.exp(-(my_scalar-4)**2)))**2\n",
    "\n",
    "der_by_scalar = tf.gradients(weird_psychotic_function, my_scalar)\n",
    "der_by_vector = tf.gradients(weird_psychotic_function, my_vector)"
   ]
  },
  {
   "cell_type": "code",
   "execution_count": 24,
   "metadata": {},
   "outputs": [
    {
     "data": {
      "image/png": "[encoded data removed]",
      "text/plain": [
       "<matplotlib.figure.Figure at 0x7f5bfcdea1d0>"
      ]
     },
     "metadata": {},
     "output_type": "display_data"
    }
   ],
   "source": [
    "# Plotting the derivative\n",
    "scalar_space = np.linspace(1, 7, 100)\n",
    "\n",
    "y = [s.run(weird_psychotic_function, {my_scalar:x, my_vector:[1, 2, 3]})\n",
    "     for x in scalar_space]\n",
    "\n",
    "plt.plot(scalar_space, y, label='function')\n",
    "\n",
    "y_der_by_scalar = [s.run(der_by_scalar,\n",
    "                         {my_scalar:x, my_vector:[1, 2, 3]})\n",
    "                   for x in scalar_space]\n",
    "\n",
    "plt.plot(scalar_space, y_der_by_scalar, label='derivative')\n",
    "plt.grid()\n",
    "plt.legend();"
   ]
  },
  {
   "cell_type": "markdown",
   "metadata": {},
   "source": [
    "# Almost done - optimizers\n",
    "\n",
    "While you can perform gradient descent by hand with automatic grads from above, tensorflow also has some optimization methods implemented for you. Recall momentum & rmsprop?"
   ]
  },
  {
   "cell_type": "code",
   "execution_count": 26,
   "metadata": {},
   "outputs": [],
   "source": [
    "y_guess = tf.Variable(np.zeros(2, dtype='float32'))\n",
    "y_true = tf.range(1, 3, dtype='float32')\n",
    "loss = tf.reduce_mean((y_guess - y_true + tf.random_normal([2]))**2) \n",
    "#loss = tf.reduce_mean((y_guess - y_true)**2) \n",
    "optimizer = tf.train.MomentumOptimizer(0.01, 0.5).minimize(\n",
    "    loss, var_list=y_guess)"
   ]
  },
  {
   "cell_type": "code",
   "execution_count": 34,
   "metadata": {},
   "outputs": [
    {
     "data": {
      "image/png": "[encoded data removed]",
      "text/plain": [
       "<matplotlib.figure.Figure at 0x7f5bfc20a208>"
      ]
     },
     "metadata": {},
     "output_type": "display_data"
    }
   ],
   "source": [
    "from matplotlib import animation, rc\n",
    "import matplotlib_utils\n",
    "from IPython.display import HTML, display_html\n",
    "\n",
    "fig, ax = plt.subplots()\n",
    "y_true_value = s.run(y_true)\n",
    "level_x = np.arange(0, 2, 0.02)\n",
    "level_y = np.arange(0, 3, 0.02)\n",
    "X, Y = np.meshgrid(level_x, level_y)\n",
    "Z = (X - y_true_value[0])**2 + (Y - y_true_value[1])**2\n",
    "ax.set_xlim(-0.02, 2)\n",
    "ax.set_ylim(-0.02, 3)\n",
    "s.run(tf.global_variables_initializer())\n",
    "ax.scatter(*s.run(y_true), c='red')\n",
    "contour = ax.contour(X, Y, Z, 10)\n",
    "ax.clabel(contour, inline=1, fontsize=10)\n",
    "line, = ax.plot([], [], lw=2)\n",
    "\n",
    "def init():\n",
    "    line.set_data([], [])\n",
    "    return (line,)\n",
    "\n",
    "guesses = [s.run(y_guess)]\n",
    "\n",
    "def animate(i):\n",
    "    s.run(optimizer)\n",
    "    guesses.append(s.run(y_guess))\n",
    "    line.set_data(*zip(*guesses))\n",
    "    return (line,)\n",
    "\n",
    "anim = animation.FuncAnimation(fig, animate, init_func=init,\n",
    "                               frames=400, interval=20, blit=True)"
   ]
  },
  {
   "cell_type": "code",
   "execution_count": 35,
   "metadata": {},
   "outputs": [
    {
     "data": {
      "text/html": [
       "<img src=\"data:image/jpeg;base64,/9j/4AAQSkZJRgABAQAAAQABAAD/2wBDAAIBAQEBAQIBAQECAgICAgQDAgICAgUEBAMEBgUGBgYFBgYGBwkIBgcJBwYGCAsICQoKCgoKBggLDAsKDAkKCgr/2wBDAQICAgICAgUDAwUKBwYHCgoKCgoKCgoKCgoKCgoKCgoKCgoKCgoKCgoKCgoKCgoKCgoKCgoKCgoKCgoKCgoKCgr/wAARCAEgAbADASIAAhEBAxEB/8QAHwAAAQUBAQEBAQEAAAAAAAAAAAECAwQFBgcICQoL/8QAtRAAAgEDAwIEAwUFBAQAAAF9AQIDAAQRBRIhMUEGE1FhByJxFDKBkaEII0KxwRVS0fAkM2JyggkKFhcYGRolJicoKSo0NTY3ODk6Q0RFRkdISUpTVFVWV1hZWmNkZWZnaGlqc3R1dnd4eXqDhIWGh4iJipKTlJWWl5iZmqKjpKWmp6ipqrKztLW2t7i5usLDxMXGx8jJytLT1NXW19jZ2uHi4%2BTl5ufo6erx8vP09fb3%2BPn6/8QAHwEAAwEBAQEBAQEBAQAAAAAAAAECAwQFBgcICQoL/8QAtREAAgECBAQDBAcFBAQAAQJ3AAECAxEEBSExBhJBUQdhcRMiMoEIFEKRobHBCSMzUvAVYnLRChYkNOEl8RcYGRomJygpKjU2Nzg5OkNERUZHSElKU1RVVldYWVpjZGVmZ2hpanN0dXZ3eHl6goOEhYaHiImKkpOUlZaXmJmaoqOkpaanqKmqsrO0tba3uLm6wsPExcbHyMnK0tPU1dbX2Nna4uPk5ebn6Onq8vP09fb3%2BPn6/9oADAMBAAIRAxEAPwD9/KKKKACiiigAooooAKKKKACiiigAooooAKKKKACiiigAooooAKKKKACiiigAooooAKKKKACiiigAooooAKKKKACiiigAooooAKKKKACiiigAooooAKKKKACiiigAooooAKKKKACiiigAooooAKKKKACiiigAorj/AAR%2B0J8A/iZ431n4Z/Dj44eD/EHiTw5JJH4h8P6J4ltbu%2B0t0kMTrcQRSNJAVkBQh1GGG088VZsPjb8GNV%2BKV78DdL%2BLvhi58babZLeaj4Pt9ftn1S1tiEImktA/nJGRJHh2UA7155FAHT0UUUAFFFFABRRRQAUUUUAFFFFABRRRQAUUUUAFFFFABRRRQAUUUUAFFFFABRRRQAUUUUAFFFFABRRRQAUUUUAFFFFABRRRQAUUUUAFFFFABRRRQAUUUUAFFFFABRRRQAUUUUAFFFFAHyM/iK78Sf8ABRXRvjLpWnfFnWdA8OeFNe0jVrLxH8LL/T9N8KS3FxpcStpco06CXVDdy2xaQ%2BZfIiIZkktolxJy/wANfAHxBg/ae8IfDi4%2BFHii313wp%2B0r428deJvGNx4Zuo9Ku/Dmo6XrcVj5epNGLe6kI1LSbU2qSNKn2BmZFWBCfuGigDxD9tfx3%2B078LPC2i%2BNvgH4%2B8B6bbXPi/w54f1Cx8X%2BA73VZHfVddsdL%2B0Ry22q2YjESXhk8so%2B8xgb0ByLP/CD/wDBQv8A6Og%2BDP8A4YfVv/moo/bw/wCSIaH/ANlm%2BHH/AKmuiV7NQB4z/wAIP/wUL/6Og%2BDP/hh9W/8AmoqtrOgft5%2BHNIuvEHiH9rb4IWFhZW7z3t7e/A7VIobeJAWaR3bxSFRQASSSAAM123w5%2BOul/EH4heJfhnc%2BC9c0DU/DpjkSLXYoY/7Ts3kmiW8txHK5aEywSplgrcKSoDqT4T4x8MfGTw9pPif4efG3Rr/WNM%2BIniiXw1aeMpfGbz3CpePIbCSHSo4VhtYIWZIXMbCUhGnYFVJHXSwjnPlm7PTTq0%2B2tnZXf9O2M6qUbpX3/r7zO8SfHb9uzU4PC8fwA/aT%2BAnju58VXl7FZLF8J9Us4QLSHzp180%2BJJP320qFhKgtu3Eqis47j4Ual%2B3d8XvAOn/EDw9%2B018IIYL0SJLa3fwE1ZZrWeKRoZ4JB/wAJTw8csckbDplDWP4Z%2BDXxc%2BMfxKufGPivwXqfw%2B1jS7DS7p9eZrWaG48R2ryo9xbxRSnzraS0llicsIy0dyyfeXKe5/BX4YXHwo8GSaDqfiMavqV7qt5qer6mliLZLi6uZ3mkKQhm8tAW2qu5iAoyzHJOmKp4WlTUYP3vW%2B9%2Bq02ta1n5a6TSlVlK72/r5ng3gcf8FkfEXxR1jRfF3ij4CeHvB9hcTw6Z4gn%2BHWqXN9qm1sRzJZxeICkUbgFv3k4cZGUznHoH/CD/APBQv/o6D4M/%2BGH1b/5qK9morjnJTd1FL0v%2BrZtFNLV3PGf%2BEH/4KF/9HQfBn/ww%2Brf/ADUUf8IP/wAFC/8Ao6D4M/8Ahh9W/wDmor2asP4hfE/4bfCTw7J4v%2BKnxA0Tw1pUP%2Bt1LXtUhs4F4zgySsq5/GpjGUnaKuytzzX/AIQf/goX/wBHQfBn/wAMPq3/AM1FH/CD/wDBQv8A6Og%2BDP8A4YfVv/morkJ/%2BCofwY8Z3D6Z%2By38LviJ8ZbpXMf2nwD4Tl/sxJM4AfUrwwWgX/aWR%2B/BxTR4r/4Kr/Fznw98KPhV8HtPl%2BVpfFeuXHibVYx/fEFkILVW9jO4z69a7P7PxEf4tof4mk/u1l/5KXyS66HY/wDCD/8ABQv/AKOg%2BDP/AIYfVv8A5qKyvFx/bV8AaWdb8efto/ATRLJfvXmr/BfUraIf8Dk8VAfrWJ/wwd8a/iB%2B%2B/aK/wCCiXxX13PD6b4Ge08J2LL3UrYxm4I%2BtwTg8k1reEf%2BCWf7AfhPVBr9x%2BzTofiLU%2Br6p44ln1%2B4duu4vqMkxznnjGO2KPZYGHx1XL/DH9ZNfkFoLqeMeKv%2BCjD%2BE9SOin/gqN%2BztrV8MgWXg/4Ea5rsxPoE07xLOSe2MVm/8N3ft66//wAkp8I614tR/wDj3vLT9jvWtNtpfQiXU/FtsNvvz9K%2B5vCvgrwb4E00aL4I8JaZo1mv3bTSrCO3iH/AY1A/StOj2uAj8NKT9ZW/CMf1C8Ox8Dx/Gr/g4I8QOG8I/szfCOzgc/JN4x0X7CcepS08TXjL9CM133wstf8Agu3r/iO0/wCFveKf2U/DeiPu%2B2S6P4T8R6nfRfI23bE2pQRN8%2B0HMowCTyQAfrqioniKUo2jSiv/AAJv8ZfoJyXY8Z/4Qf8A4KF/9HQfBn/ww%2Brf/NRR/wAIP/wUL/6Og%2BDP/hh9W/8Amor2aiuUk8Z/4Qf/AIKF/wDR0HwZ/wDDD6t/81FH/CD/APBQv/o6D4M/%2BGH1b/5qK9mooA8Z/wCEH/4KF/8AR0HwZ/8ADD6t/wDNRR/wg/8AwUL/AOjoPgz/AOGH1b/5qK9mooA8Z/4Qf/goX/0dB8Gf/DD6t/8ANRR/wg//AAUL7ftQfBn/AMMPq3/zUV7NRQB8SeJNT/4OIvD%2B6XStI/ZH19B9xNPsPEVvIw9xPeqoP/AjWCP2if8Agut4YPnfEr9l7waLdf8AWT%2BCfAkOsH/gMcnjC2kb/vkV980V2RxNG1pUYv8A8CX5Sf5Fcy7Hyv8As/fEr/goT8ftM1K/fxp4b8ETaZPHFNY/EH9mLV9OlmLKTuhI8WOkyjGCyMQCQO9aXxL8Rf8ABQb4e%2BLfBHgu3/aC%2BDOoXvjbxI%2Bl26/8KU1WEWsUVjc3k1yf%2BKmbeFS227Ply0ijcK%2Blq828f/sz6B47%2BMug/HVPiP4w0nW/DtvPDYW2n6ysmnlZomikLWdxHLCGKnl0VX%2BUfN1zFOWHddyatGzstZa2duz31v0BctzwX9oP44f8FDvglqV5pmh/Ff4R%2BJH0DwzJ4l8YSQ/BnUrZNJ0eNpA0%2BX8TkzSnyZikKgFhC3zDjOtY/HL9qrUPipB8Irb9rD4WHUbm7FjFfH9m3XhYHUDaC8%2Bwfav%2BEm8oXX2Y%2BaYi27aG7qQO3%2BMX7Jfjr4keK7650j4rWdpo/i3w/p%2BjePku9FL3t3b2k0ku62kSVI4TMsjwyK0bKFYsmGznz3xF%2Bzp%2B0xDFr/hjwz4XsbWy8Pa14k8VeGNci1lTJrWpXEMi6XbiMDfAY1kaOaR%2BCUUoCHITsp0cBUpJOSTt3tv3uuj6Lpq/KkoNHY%2BBvEf7W/xOutSsvhx%2B3T%2Bz3r8%2BjXP2fV4dG%2BDuoXL2UvPyTLH4rJjY4OA2M4yK6H/hB/8AgoX/ANHQfBn/AMMPq3/zUVzX7HPgy8PjCDxZ4f8AA2u%2BG/C3hv4a6P4O0q18RaJNpt1fyWwMryG3nVZFjiMhjVmADNJMVLKQx7j4l/ttfsqfBj4q2/wW%2BMHxs0fwr4gu7OO5s4vEbPZW1wjlgoS7mVbdnypygk3jIyBuGeWrhZe3dOinKyvtd%2Be19vwv5EuOtkZn/CD/APBQv/o6D4M/%2BGH1b/5qKP8AhB/%2BChf/AEdB8Gf/AAw%2Brf8AzUV6/peq6ZrmnQ6voupQXlpcxiS3urWZZI5UPRlZSQwPqKnrk2JPGf8AhB/%2BChf/AEdB8Gf/AAw%2Brf8AzUV5/wCAx/wWQ1H4par4P%2BJfij4CaT4cgt5ZtG8X6P8ADrVL6O8xKqpDLbSeIIZYJSjFzgPGNjDeflz9TUVcZqKacU7%2BunmtfzuS021qfM/x48Rf8FD/AIK/Di48a2Hx3%2BC%2Bu6i91b2OjaEfg1q9o2o31xKsNvAsg8Ry7S0jqCdhwu5jwpq/8RPEf7YHwg0e0174sfttfATw7Z3t7HZwXerfBTVIYWuHztTe/ikAZweTgcdq9A%2BK3wC1X4g/E7wv8VtL%2BJupWkvhW7N1beGb6CO50e7m%2Bz3EKzSRbVlSZRcsVkSQAbVJRiBjhf2mofiT4g8TeGl8L/CvxY3i7QbyCTw5rGlPBNoFybny7e/jvBIWKRJBJPkyxI5UZhYudo66NKhVUIX7tvZrstdLK2%2Bu700MpzqQ5nbtb%2BkbNp4S/wCCgF/axX9h%2B1V8FZ4J41khmh%2BBWqskiEZDKR4pwQQcgipP%2BEH/AOChf/R0HwZ/8MPq3/zUV5pqnxm1zw7r%2Bl/FuH4l3WheG7fxdqNlp/g%2BxtYY9Ph8M6WJ4r%2B6mhCb95eB3V8jaEjCcMQ3snwV%2BPHi/wCIviqfwd8QPhZ/wit%2B/huy17TrRtYF1MbO5aRBHcJ5SfZ7hHjKtGDIvIw5IYLNXBVaUOfdfl/na6vbQcK0ZOxxepeMf2zfhL8afhV4a%2BKPxb%2BGHiXw/wCPPGt3oOp2mgfC7UdIvLcR%2BH9X1OOaK4m1y7QHzdOjRlaE5WRsFSAa%2Bga8Z/ag/wCS3/s4/wDZZr7/ANQrxRXs1cZsFFFFABRRRQAUUUUAFFFFABRRRQB4z%2B3h/wAkQ0P/ALLN8OP/AFNdErp/AP7Snw4%2BKHxb8RfCDwHBrGo3PhQNHr2tR6PKul214rqrWIumASS5XduZE3bQDkgjFcx%2B3h/yRDQ/%2ByzfDj/1NdEr2VESMERoFBJJAGOTyTVxdNRfMrvpra3%2BfpoS1JtWZ5d8Xfg98UPF/wAavB3xM%2BGPjHSPDn9h2d7aa7qN1YPeXN/ZTmJjZpDuSNRviWQTOzbHQYjYM2ertPg78Pk8T2Hj3WfD1tq/iPTLVrey8RarbRy3kKMzFgj7QI87iDsC5GAeAK6eirdeq4qN7WVtNNPN7vf/AIAlTim33Cq2sazpHh7SrnXtf1W2sbGzgaa8vbydYooI1GWd3YgKoAJJJwAKp%2BNx41bwjqK/DiXS0102rDSn1qKR7RZsfKZVjZXZB3CspPTI614kdb8VftPfskeN/hf8Rb7SdK8b6O934e8UYjMFgNSgKPDKFkZmS2uY2tplBZiI7nbuLLmnSo%2B0XM3pdJ91frbt%2Bpolc6D4iftd6PZ2vhx/2f8Aw5afEyXxLaaje2J0HxFAlvJbWUMcsyxzgOklw3nRLHDld%2B5mLKqMa8bm/aZ8b3/inxp8ePDnxb1SSz8OXelahp/ga7W3jsL/AMLXHkRSuiGISpepdR30bSF2Cukak7HVRoeEPg38SvjD8cdf%2BIOk%2BDdd%2BGd/aw6fqct/q2mRvb/8JPE7W9y0KLIFvLW5sooElZSgIWMq%2B8uE9d%2BH/wCx/wDCrR/Buh6P8V/Cvh/xprOiave6rbaxqPh2MJb3d1eS3cn2aKRpTbwrLL%2B7i3v5YSPDEopHpXwOEjZq70vs3rr5x7K6afU09yJ6H458N3fjTwVqvhPT/Fep6DPqenTW0Ot6M6Jd2DOhUTwmRHQSITuXcrDIGQeleMfD3/gmd%2ByJ4M8RR%2BPfGHgO6%2BInitOW8W/FLVZfEF%2BW7Mpuy0cJHbyY4wOwr32ivNp4nEUYONOTSe9tL/Na/K9vIzUpJaDLe3gtIEtbWBI4o0CxxxqFVVAwAAOgFPoorAQUUVz/AMSPiv8AC34N%2BG5PGXxd%2BJOgeFdIiz5uqeI9YgsbdOM8yTMqj86ajKTsldjScnZLU6CivlW8/wCCw37KPiW8l0j9mjw38RvjffQuUli%2BEPgC81O1Rhx81/KsNiBnjPn4HftTB%2B0R/wAFW/iv%2B7%2BE3/BPzwd8PbWT5oNX%2BMfxSSWXZ2LWOjQ3JVsc7WnU9jjrXV9RxK%2BNKP8Aiaj%2BDd/wOn6liF8aUf8AE0vwbv8AgfVtFfKY/Z0/4KwfEX/S/iR/wUZ8HeBkk4l0v4VfByGTYO4W61i5ujn38ketL/w6yHiT958X/wDgoR%2B0x4saTm5th8UTo1rJ6jydIgtcL/skn60fV8PH4qy%2BSk/0ig9hQj8VVfJSf6JH1U7pGpd2CqBkknAArkfEv7QXwF8GMyeMPjd4Q0kp98al4ltYCv13yDFeCp/wRR/4JqXbCbxd%2Bz5deKZs5kn8Z%2BONa1lpG9SLy8kX8gBXXeGv%2BCV//BNPwkqjRP2BvhAGT7st18PdPuJB/wADliZv1o5cAvtSf/bsV%2BcmHLgl9qT%2BSX5yZtar/wAFDv2AdCYprf7cvwesyv3hdfEzSoyP%2B%2BrgVjzf8FS/%2BCaEDbX/AOCgnwXJ/wBj4m6W38p67DSv2Nf2QdCULon7Knw2swv3Ra%2BBtPjx/wB8witiH9nf9n%2B3XZB8DPByD0TwzaD%2BUdF8v7T/APJP8g/2HtP/AMl/yPOrb/gqJ/wTUu2CQ/8ABQT4K5PQP8UNKX/0K4Fb2jft6fsM%2BImCeH/2z/hPfFvuiz%2BIumS5/wC%2BZzXSXX7N/wCzversvfgJ4LmB6iXwtaMP1jrB1j9hz9inxCpTX/2PvhbfBvvC8%2BH%2Bmy5/76hNH/Cf/f8A/JA/2H%2B//wCSnZ%2BF/it8LvG5VfBfxJ0DVy33RpesQXGfp5bGt%2BvnTxR/wSJ/4Je%2BLww1b9gf4VRbup0vwba2J/A2yIRWAf8Agi/%2BwRpJ8/4a%2BD/G3ga5H%2BruvA3xZ8Q6YY/91Ir7yx/3xRyYB7TkvWKf5SDlwT2nJesU/wApH1VRXyp/w7X%2BLPg7/Svgj/wVH/aI0K4X/VQ%2BJ9f07xPar6ZTU7KWRvxlpP8AhVv/AAWO%2BGf/ACJv7WPwX%2BKEHXyPiD8N7zQbkj0%2B0aXdSxg/7X2fH%2BzT%2BrUZfBWj81KP5pr8Q%2Br0ZfDVXzUo/mmvxPqyivlE/toft9/Cr/k4f/gl1r%2BqWMPyz678FfHen%2BIVc/3lsrv7FdAewVzx3OBWt4H/AOCvP7BfiXxDD4G8efF24%2BGfiWY7T4Z%2BL2gXnhe7V%2BmwHUY4opGyQP3bvycUngcVa8Y8y/utS/Jt/gDweJteMeZf3Wpfk2/wPpiiq2kaxpHiDTINb0HVba%2BsrmMSW13ZzrLFKh6MrqSGHuDVmuTY5dgrN8WeDfCHj7Qp/C3jrwrputaZcri507VrGO5glHo0cgKt%2BIrSoppuLugPmvU/%2BCXvwN8K6lceKP2VPGnjD4JazPIZpJPhxrjQ6bPJ1HnaXcCWykQH%2BERL9RVdvGn/AAUv/Zx/5H34deGfj34bg%2B/rHghl0DxIkY5Z30%2B5drS5bHRYZoiey9j9OUV2rH1p6Vkqi/vav/wJWl%2BLL5299Txv4E/t6/s0fH/xG/w80DxlPoHjSAf6b8P/ABrp8mka5btjJH2S5CtKB3eLzE/2q9krhPjx%2BzF8AP2nfDieFvjz8KNI8SW0J3Wct9b4ubJ/%2BelvcIVlt3/243VvevFn%2BCH7cf7JP%2Bn/ALMnxUf4v%2BDoOW%2BGvxR1TZq9vGP4NP1vblj0Cx3iuoAx5o60eywmI/hS5JdpbfKf/wAkl6haMttD6korxz9nj9uH4M/tA%2BIbn4ZFNU8HfEHTYt%2BsfDfxrZfYNYtVHWRI2JW6h4yJoGkjIIORnFex1y1aNWhPkqKz/r715pteZLTTszzbx9%2Byl8GvGHhrxfpeieCtJ0DU/Gdvt1fXdL0mFbiaUOJFlkyuJv3iqzK2RJjDZzWl8I/g/efD/U9Z8aeL/GD%2BIvFPiJoBrGsmyFtGYYA4gt4YAzCKFPMlYKWYlpXJYk129FU8RWdNwcrp/wDA6720Wm2i7Gfs4KV0jxj9p1i/xt/ZyJQr/wAXnvxg%2B3grxRzXs9eM/tQf8lv/AGcf%2ByzX3/qFeKK9mrEsKKKKACiiigAooooAKKKKAPB/Cnxm/aC0P9s%2B3/Z0%2BIXiDwR4k0vWfCOq%2BIli8K%2BHLyxvfCttBe20Fit9LNe3Ed0LoTXCo6x2pL2MxRJFWQxYXws/an%2BLuu/tpeKvgb8WPE2ieGdFt/E9zpvgDQL/AOE%2Bt2lz4ntotLt7s3Frr092NPu5FdrstbwQNII7VyQAjOOi%2BE37Et58HPiF43%2BI3hz9rL4m3d14%2B1yfVdbg1a28OzhZ3ZBEsc39kC48q3hRbeGJ5XSOLgKW%2Bet%2B%2B/Zag8RfHLRfjX49%2BN/jXxFD4W1q51fwj4O1I6ZHpOi301ncWTTxfZrKK6mK213dRoLm4mVROxA3KjKAcZ/wUL%2BLnwo8NeD/AAZ8KPEfxO8Paf4p8QfGH4ey6D4avdagi1DUkj8Z6M0jW9uziSYKqsWKKQApJxg19D14z%2B3h/wAkQ0P/ALLN8OP/AFNdEr2agArifj7%2B0P8ACH9mP4ezfEz4z%2BL4dK01JVgtY9jS3N/cvxHbW0KAvcTOeFjQFjyegJGP%2B1P%2B1J4M/Za8D2uuavpF7r3iLXb5dN8F%2BC9GAfUPEOouPktoF7AfeeVvkjQFm7A8J%2Bzt%2ByL4z1P4gwfta/tp6rZeJfii8TDQdItiX0fwLbP1tNORuGnIwJbxv3khGFKpw3ZRw8FT9tXdodEt5PsuyXWT0Wyu9FSirXex6J%2BzT8UPjF8YfBN149%2BLfwNm%2BH0d7qLN4a0LU9TWfUjp2xPLlvo0XZazs28mAO5RSqsQwIpNG/Za%2BFGmfGnXfj9qVvqGreJNeECSyarqDSWtrFCqrFHDartgUrtyJWRpuSDIRxXo1FYutJTk6fuqWllfbtrr0%2Bf4CvroFFFFYiCiivA/2oP%2BCgPw9%2BAvjS2%2BAvw18Gat8Ufi/qtsJtI%2BF/g0o12kRwBdX87nydMtMlczzkZB%2BRXIIrSlSqVp8sFd/wBavol5uyNKdKpWlywV3/W/ZebPepZYoImmmkVERSzuxwFA6knsK%2BYfH/8AwVU%2BClx4vvfhL%2ByN4G8S/H7xtZSeTd6T8MLZJ9N02Y9FvtXlZLG0Gcggys6kcpWBafsFfH/9sCRfFP8AwU6%2BM327RJmElt8CPhtfz2Hhm2Xqseo3SlLrWZBhSwdo7fcDiIqa%2Bpfh78OPh98JfCFl8P8A4W%2BB9I8OaFp0Xl2Gj6Hp0dpa26%2BiRRKqr%2BArp5cJQ%2BJ88uy0j9%2B7%2BSS8zflwtD4nzvstI/fu/kkvM%2BZV%2BEP/AAVT/ab/ANI%2BM/7Q/hn4BeGrj73hT4RWS6zr7RN1jm1nUI/IhkH962tT7PXRfDb/AIJL/sNeBfEkfxB8Y/Cmb4l%2BLl5k8ZfF3V5/E%2Bou%2Bc71a/aSOE%2BnkpGB2FfSVFTLG4i3LB8i7R0%2B9rV/OQnjK9rQfKu0dPxWr%2BbIrKystNs4tP060it7eFAkMEEYRI1AwFVRwAB2FS0UVyHKFFFFABRRRQAUUUUAFFFFABRRRQAUUUUAFZHjj4feAvid4dm8IfErwRpHiHSbgYuNL1zTYru3l/3o5VZW/EVr0U03F3Q02ndHytrP/BIb9mnwzqc/ir9krxb44%2BAeuTSGV7j4SeJpLLT55Oo87SphLYSpnqvkLkdxwRTfxJ/wVp/ZbG7xX4S8G/tLeFoP9ZqHhgJ4V8WRx9S7Wkzvp94wH8MctuzHovIFfWtFdaxtaWlW01/e1f8A4FpL8WdKxlWWlW01/e1f36S/FnhP7Ov/AAUc/Zb/AGj/ABa/wq0nxTqHhH4g26Zvvhl8RNKk0TxBb8EnFpcYNwuBnzIGljx/FXu1edftHfslfs4ftb%2BE08F/tFfCDR/FFpA/mWE97AUu9PlyCJbW5jKzWsgIHzxOje9eAzfDn/goJ%2BwKP7T%2BCvizVP2jPhZajNx4D8YahGnjTRoByf7P1N9seqqoyRb3e2YhVVZmJp%2Byw1f%2BE%2BWXaT0%2BUtPukl6j9nh6/wDDfK%2B0np8pf/JJep9h0V5l%2By5%2B1/8AAf8AbC8GXHi/4KeLXuJtMufsniPw9qlo9nq2g3gzutL6zlAltpVIYYYYbaSpZea9NrlnTnSm4zVmujOacJ05OMlZoKKKKgk85/aM/ZR%2BB37U/h620T4u%2BEBPd6bL5%2Bg%2BIdOuGtNV0W4GCs9ndxESwOCAflO07QGDDivFR8bf2kv2AZ00j9re/vPiP8JUcR2fxk07T/8Aia%2BH484VdctIRiWIDj7dAuOMyxqW3V9YUy4t7e7t3tbqBJYpUKSRyKGV1IwQQeCCO1ddHFuEPZVVzQ7Pp5xe8X%2BD6p7lKVlZ7FXw34l8O%2BMdAsvFfhLXbPVNL1G2S40/UdPuVmguYXGVkjdCVdSCCCCQau18keMfhJ8RP%2BCcmvXvxq/ZX8N32v8Awgu7l7zx98HLBfMl0MMd02qaEh%2B7jl5bEYRxuMe1sAfTXwx%2BJvgH4zeANJ%2BKfwu8U2mt%2BH9cskutK1Syk3RzxN3HcEHIKkBlYFSAQRSxGHVOKqU3zQez6p9pLo/wa1TtsSjbVbHm37UH/Jb/ANnH/ss19/6hXiivZq8Z/ag/5Lf%2Bzj/2Wa%2B/9QrxRXs1cpIUUUUAFFFFABRRRQAUUUUAFFFFAHjP7eH/ACRDQ/8Ass3w4/8AU10SvQvjD8W/AfwH%2BF2vfGP4n64mnaB4c02W%2B1S7cZKxoM7VHVnY4VVHLMyqOSK89/bw/wCSIaH/ANlm%2BHH/AKmuiVwf7Q9sP2rv22fB37Jcn7/wZ8ObG38ffEqAcxX155zR6Lp0vYr5sU948bAhhbRZ6104WjGtV9/SKTcvRb283ol5vyKirvUvfscfBbx58RfGlx%2B3p%2B1HoL23jrxNZGHwV4Vu/mXwN4fc7orNFPAvJl2yXMuAxZhENqoQfpSiipxFeWIqcz0WyS2SWyXkvx1b1bFJuTCiiisBBRRXzj/wUK/aA%2BKHhDTPCf7Kv7MeoxW3xb%2BMeozaX4Y1KSLzE8N6dCgfUtdlToy2sLDYpPzzywrhskVrRpSr1FCPX7kt235JamlKlKtUUF/wy6t%2BSWpzv7QH7UHxt/aK%2BMmq/sR/8E/tXtrDVtEZYfix8Y7m1FzYeB1cZ%2BxWsZ%2BS81dkORET5cAIaXk7R69%2Byn%2Bx38EP2OvBVx4U%2BEuiXMt/q1z9s8U%2BLdcujeaz4jvjkvd392/z3ErEsecKu4hFVeK0v2X/ANmj4W/sjfBXR/gZ8I9Mli0zS0Z7m9vJfNu9UvJDvuL66lPM1xNIWd3PUnAwAAPQK2rV48vsqOkPxk%2B7/RbLzd2bVq8eX2VLSH4y83%2Bi2Xm7sKKKK5DlCiiigAooooAKKKKACiikZlVSzMAAOST0oAWis/R/FvhTxDf3ulaB4m0%2B%2ButNdU1G2s72OWS1ZhuVZFUkoSOQGxkVoU3GUXZqwoyjJXTuFFFFIYUUUUAFFFFABRRRQAUUUUAFFFFAHzx%2B1h%2BwXp3xf8ZQftK/s7%2BNn%2BGXxw0W28vR/H2l24aLVYVwRp2r2wwuoWTbQNr/ALyLAaNlIwbf7Gn7aF/8d9V1z4CfHnwMngP41eB4oz4z8EtcmSC5t2O2LVtMlbButPmI%2BVx80THy5AGALe%2BV88/t9fso%2BLfjLoGj/H39nO9t9G%2BN3wwkk1L4da3J8sd%2BCP8ASNFvDkeZZXiAxOCRscpIpBQ57aVWNeKo1n/hl/L5P%2B73X2d11T7KVWNaKpVX6S/l8n/d8um66p/Q1FebfsiftMeEf2vv2ePDfx%2B8H6fcaemtWrLqei3oxc6RqELtDd2M4IBEsE8ckTZAzsyOCK9JrknCdObhJWa0ZyzhKnNxkrNaBRRRUkhXyP4rsP8Ah2t8fV%2BJvh5fs/wI%2BJ2vxweMtLXi38E%2BIblwkWqRDpFZXUhWOdeFjlZJAQGZa%2BuKwfih8NPBnxk%2BHOufCj4i6LHqOheItLm0/VbKUcSwSoUYA/wtg5DDkEAjkCurC11Rm4zV4S0kvLuvNbp99Nmyouz12PN/2oP%2BS3fs4/8AZZr7/wBQrxRXs1fL8/w08ffBu1/ZL%2BFPxM%2BIw8W6v4e%2BKl7YSeIjaGF72GLwZ4qWBpFLMTKIRGrvn53VmwN2B9QVhUjGE3GLuk9%2B/n8xPRhRRRUCCiiigAooooAKKKKAOQ8C/tB/AP4oeMtZ%2BHXw0%2BN/hDxF4h8OuyeINC0LxLa3d5pjK5jZbiCKRnhIcFSHAwwI61Ytfjb8Gb74p3PwLsvi54Ym8b2dgL288HRa/btqsFqQpE72gfzljIdPnK7fmXnkV81/DX4r6Z8WP239W%2BKfiz4SfEXwlpPws0nWvC/gXTbj4NeIYf7a%2B1XlmdR1ZroWH2d4JJbSBLWCKRmeNZrlwd8Yh5nwd8P/AIgxftSeHvhvL8KPFEOvaD%2B074k8e614zl8NXSaVN4dvNC1O3tpE1Mx/Zp5Ct7Yaf9lWQzJ9mZjGI4VegD3v9vD/AJIhof8A2Wb4cf8Aqa6JXIf8E7ov%2BE28Q/HP9oq/Hm3fjL406rYWl1/e0zRwmlWqD/ZBtp3HvKavf8FC9N%2BK8/g/wZqPhzxp4etfC0Pxh%2BHo17Rr3wxPcaheOfGejeW1veLexx2wVtpYPbTFgCAUyCK//BLGaOL9l/UfDr2yQ3mi/FLxlYalEhY7bhPEF8zZ3EncQ6see/AAwK7aOmBrNdXBfK8n%2BaRa%2BB/I%2Bj6KKK4iAooooAK%2BS/2RbNvjr/wUS/aH/am1lhcW3gi%2B0/4U%2BCN45s4bS2h1HViv/XW9vYlLdSLRRnjA%2BtK%2BVP8Agluy2GoftJeFLv5b/Tv2pfFUt3G3DbLpLO8gcj0MM8eD/s%2B1dmH93DVpLe0V8nLX8kjqoe7h6slvZL5OWv5JH1XRRRXGcoUUUUAFFFFABRRRQAVQ8VeKfD3gfwzqHjPxdq8Gn6XpVlLd6jfXL7Y7eCNS7ux7AKCfwq/VTxBoGieK9CvfDHiXSoL7TtRtZLa/srqIPFcQyKVeN1PDKykgg9QaqHJzrm2623t1t52vYmfPyPk3s7X2v0vbpe1/I%2BM/g/8AtAf8FUv2s47v4ifB3wL8OfBXw81W6mm8Jax40tbl9QuLHeyRv5UMz5Yhd2XREbdlSy7Sfjb9oz9sDxDrnxLvvht%2B1zrXj34s2Ph/xDPG/hOBYPCukXktu8kW/FtHLPLGDuZWPluRjO05Fe1ftma/46/4Jc2Nj8NvhB%2B2Z8QNP03U7a9vfA3hFPBWnajZ6cgkyLaW8u5Q/l73wNqSMq8lSSN3x98Sv28f22viD4lZviJ%2B0F4i1KZLVHNnoGvLa2bRmISHcmmNHGcJ98AhlIIfBUgfs%2BQZVHEVHiqFKkqEl7jSnCatpfmalJvo2pRSle26Pw/iLN5YamsJiK1V14v94m4TptvW3KnGKV9YqUZNxsnsz1n4G/tEQ/s7fFr4eftrw/sw2vw9%2BFkkmp6YbXwR4ge6vvECtDcRqlxFd3u6ZI7iPIkMcagoeWKxqPcJf%2BC0HxR/aQ8Qt8Nfgxa%2BAvhXBqu%2BytPE3xG1O%2BmKu6MFdJLaAQW0gPKmUsgIGSa%2BYv2Vv27vgF8H/F9t4h%2BMn7EPhXxXdtqEctz4k/tG7udQhwy5nVNQluI5JVALKFMIJC/Mv3q%2Bmf8AgrxffGT9t/8AY0%2BGPxx/Ym8Mar4k8Ex3l9c%2BIvDun2DSXkEoVIoJGtYSxJtyl3G23cF80MMqd1eZxdicuyOccZmWBnKC91VI/vLK7atT5m5yV9eeSutkkrH1HhrkWb8cY%2BOS5PmdGlVqttQqyWHg5cqupV5RjGlGVrLljZSsnK8kznPgH%2B0J%2B0n%2Byp%2B1Zbab8c/20j8SPBXhjXTofxHhstU1C8TQ5rlZYIZbhr2CMFI7pVDSRPIE2bGKs6qf1UVldQ6MCCMgg8EV%2BUP/AATI/wCCS/wv/aV/Zo0b4u/tD6pc2%2Bt/8JbczvYeGtdiZbnShHbhLK8Vd5t5fMSdsI0coSfDfNs2fqroei6Z4b0Wz8O6LbeTZ2FrHbWkO9m2RIoVVyxJOAAMkk%2BtfF59mmVZxSoYnCxlGbj76lSVJ%2BTcFtJ6vZPlcU/eTPs8Fw3nPCOa43KsbWpVoUqlozpV/rEJNfFyVftRWium05xm43i0y1RRRXzp64UUUUAFFFFABRRRQAUUUUAFFFFAHyb%2BzBar8AP%2BCmXx1/Zr08eVoHxA0LSvit4eso/9XbXlxJLpusY95Li1tZyP71wx/ir6yr5UnZdU/wCC3tp9hO7%2BxP2V7ldTK/wm98SW5tw3uRY3JA%2BtfVddmM1nCT3cIt%2BtmvySOrF6yhJ7uMW/ua/JIKKKK4zlCiiigDxn9qD/AJLf%2Bzj/ANlmvv8A1CvFFezV4z%2B1B/yW/wDZx/7LNff%2BoV4or2agAooooAKKKKACiiigAooooAKKKKAPGf28P%2BSIaH/2Wb4cf%2BprolcZ%2BydMPg3%2B2f8AHb9mTUf3UOv6xbfEvwmH63NrqMSW2obfaO/tWJH/AE9Kf4q7P9vD/kiGh/8AZZvhx/6muiVy/wC374E8aeEj4U/be%2BDegz6l4r%2BENzPcarotmv73X/DVwqrqdgo/jlCIlzCDnEtuAAS9duCanKVCTtzqy/xJ3j%2BOn/bxcNdO59HUVifDb4jeC/i94A0f4o/DnxBBquha/p0V9pWoWzZSeCRQyt6g4OCDyCCCAQRW3XHKMoycWrNEbBRRRSAK%2BRb6/H7H/wDwVTl1fWm%2Bz%2BCP2n9FtLSG%2Bk4is/GukQNHHAx4VDe6aFCZ5eTT9oyWFfXVebftZ/sw%2BAv2v/gZq/wQ8fXN1ZJeGK60bXdNk8u90PUoHEtpqFrIOY54ZVV1IPOCpyrMD04arCnNxn8MlZ/5/JpP711OjD1IQm4z%2BGSs/wDP5NJ/f3PSaK%2Baf2Jv2ufHev8Aim%2B/Yv8A2xYLXRvjl4NshJdNEnlWXjbS1OyPXtMzgPHJgedCvzW8u5GVRtr6WrOtRnQqcsv%2BA10a7p/1rdLOrSnRnyy/4DXRryf9dUFFFFZGYUUUUAFFFFABRRRQB%2Bfn7e/7LnhH4eftIat%2B1/8AtA/A/WPi/wDDHVtMhXWrWw1S4TUfB0luuBJBHHPEstmwyzKxAVmZmZQPn%2BRvBvwg%2BJ938drf9pD/AIJd/DH4t2WgfbJp9GvNV8IQlNOiIaKe3huHuZYb5VzIgVyGx8rFmUu37eUiqqLtRQAOgAr7PAcZYnBYRUpU%2BdqPJrJ8jiu9OzjzdOZON18Sb1fw%2BY8EYXHYx1Y1fZpy57qK9opvqql1Ll68rUrP4Wlov56/jn%2Bzd%2B1boGt6z8TPir8E/H0KXl7Nfax4g1rwhPbRPPI7SSyO6holyxLcNjk9qh0Tx5%2B138M/2bLnQtAu/GWh/C3xdqz%2BfdwWE0GmardlGikiF1sCyEpAytErkMIWDKdhx/QrqFhY6rYT6XqllFc21zC0Vxbzxh0ljYEMjKeGBBIIPBBr4%2B/4KbfBXwB8D/2LdD8e/CXw3aaNB8GvFem634a0KK2Emnu8l/HFIk0LZDgtcNIWPzbsnI3Nn6rLePlmNajhK%2BGjdzilreOz5dGtHzcqTtZJt9EfJZp4ePLKNbGYfFStGEm9LS3XNqnrHl5m1e7aS6s%2BPP8AgjH8Mf22tK%2BPemeO/hb4e1LSfh9qYT/hLdU1qxdNN1KxRzlYC4AmnDKyo8WTGzHcQhcH9iqbCsKRKluqiMKAgQYAHbHtTq/P%2BIc8nn%2BP%2Bsypxhpay3dusn1fTbRaI/RuG8hhw7l31WNWVTW93sm%2BkV0XXfV6sKKKK8I98KKKKACiiigAooooAKKKKACoNV1TTND0y51vWtQgtLOzgee7u7mUJHDEilmd2PCqACSTwAKnr4r%2BP3jfWP8Agp98VtT/AGHvgPrFzH8HvDepC3/aA%2BImnTFItUZCGbwpp8y/6ySTgXkqHEMRMW7fIVrfD0HWlq7RWrfZf5vZLq/nbehRdaWrtFat9l/n0S6v526H/gmVDqXx28T/ABU/4KNa7YzQW/xk1%2B3tfh7BdRFHj8IaUkltp021hujN1I93eFe63EZ6Yr6zqroWhaL4X0Sz8NeHNKt7DTtOtI7WwsbSERxW8MahEjRV4VVUAADgAAVapYir7es5pWWyXZLRL7l99xV6vtqrklZdF2S0S%2B5fmFFFFYmIUUV5F%2B2n%2B0nc/s1/B1tU8H6Ous%2BOfEt9HoXw58NKcvqutXGVgQjtFHzNKxICxROSRxWlGlOvVVOC1f8AX3dW%2BiTY0m3ZFb9qD/kt/wCzj/2Wa%2B/9QrxRXs1fL0/wo8SfA%2B1/ZL%2BF/jP4g6l4r1vS/ipejW/EWrXkk81/eyeDPFUs8gaQllj813CJ0SMIgwFFfUNKpGMZtRd0nv38/mD0YUUUVAgooooAKKKKACiiigAorxf9jn4u/HD4lXXxS8HfH698KXes/D/4mN4etr7wfotzYWtxato2lakhaK5urlzIrag8ZcOFcRqwRMkVyX7FH7U/xd%2BM/wAQvEfgj49%2BJtE0fXbW51iXSfh%2BfhPrfh/UE0211aS0hv477UbuSHV4Gh%2Bys8tpCsavdR5Zd6qQDr/28P8AkiGh/wDZZvhx/wCprolezV88f8FC/i58KPDXg/wZ8KPEfxO8Paf4p8QfGH4ey6D4avdagi1DUkj8Z6M0jW9uziSYKqsWKKQApJxg19D0AfIV/Jef8Eufinea8LaV/wBnLxvrLXGoCGMsvw21m4k%2BebaPuaVcyNlsfLbzOThUfn64sr2z1Kzh1HTruK4t7iJZIJ4JA6SIwyrKw4IIIII4INR61ouj%2BJNHuvD3iHSra/sL62e3vbK8gWWG4idSrxujAhlZSQQRgg4r5Obwv8Y/%2BCY93Jf/AAy0DWfH/wCz40rSXfhOzD3et/D5SSWksVJL32mrklrfJlgHzJvUMtej7uYLV2q/hP59J%2Buku6l8V/H6/n/wT66ornfhT8W/hp8cvAWn/FD4Q%2BNtO8Q%2BH9Vh8yx1TTLgSRyDuD3VgeGRgGUghgCCK6KuCUZQk4yVmiNgoooqQPJP2uf2Nvhd%2B2B4R0/TfF13qOg%2BJvDd4dQ8DePvDdx9n1jwzf4wLi1mA4BAAkibMcq/K6nAI8c8D/t0/Fj9kjxLY/An/gqRYWOkC5uFs/Cvx80a1MXhbxKScRpfdRot8w%2B9FKfIdg5ikxha%2BvqzvFvhHwp4%2B8M33gvx14Z0/WdH1O2a31LStVs0uLa6iYYaOSOQFXU9wQQa6qWISh7KquaPTuv8L/NPR%2BT1OmnXSh7OquaP4r0f5p6Pyepdtbq1vrWO9srmOaGaMPDNE4ZXUjIYEcEEcgipK%2BQpP2Cv2hf2QrmTxB/wTI%2BNtvpvh8SGWf4F/E2a4vvDLZOWXTrpS13o5OWIRDLBuYfugBWn4S/4Kr/DXwb4htPhr%2B3f8LfEH7Pfiu6lEFu/jnZN4d1GX/py12DNnKOnErQyc8oKp4NzXNQfOuy%2BJesd/muZFPCuavQfOu32l6x3%2Bauj6qoqvpOr6Tr%2BmW%2Bt6Fqdve2V1Estrd2k6yRTIRkMjqSGUjkEHBqxXHscmwUUUUAFFFeC/tVf8FC/g7%2Byr420X4Xan4Y8SeL/ABVrcUk8XhvwXYx3l5BAg3GWSNpFIBUOVAySI3JwBmunCYPFY6sqWHg5S1dl2W71aSS7tpHLjMbhMBQdbETUY6K77vRLRNtvsk2e9UV83fDH/grR%2Bwp8S/A0njWT4z2vhx4IpHudE8TqLa%2Bj2DOBGpdZSRjAiZ85x1yB0X7HP7f/AMCf24F8QRfCG31y1uPDk8a31prmnrC7xSbvLnQxu6lGKOMFg4KnKgYJ6q2TZthqc6lWhOMYWUm4tJX0Wv8AldeZy0M7yfE1adOjiISlO7ilJNu2r0X62fke3155%2B1f8B4f2m/2dvFfwKl1kac3iHTfJt754vMWCZJElidlyMqJI1yAc4ziux8X%2BMPC3gDwxfeNPG3iC00rSdMt2nv8AUb6cRxQRr1ZmPA/qeK%2BaX/4K8fsyeLraTTv2e/D3jT4leICzJbaB4Y8JXYctuKo0kksarFG2M7/mKrklcgilluDzStVVfB023Bp8yWkWtVdu0Vt1YZnjcqo0nh8bUilUTXK3rJNWdkrye9tFvsSfsw/tr/EO2%2BNEX7FP7XPwztfCXjrTvD8U%2Bna7BrMb6d4kVSkYe28za298kiNTIcxyg7ChUfUlfIA/ZG/ah/bF8eeFfi9%2B2hrfh7whpfhfWYNW8PeAPCenQ3N7BJHIsiJdalIGYElQHSH5H4PykDH1/XRnUcAq0JUHFSa9%2BMG3BSv9mT3T3aV1F6KTRz5HPMHRnHEKTgn%2B7lNJTcbfaitmtk3ZyWrincKKKK8U9wKKKKACiiigAoorm/it8Y/hL8CfB1x8QvjT8S9C8J6Faj9/q3iHVYrO3U4zt3ysoLHHCjk9gacYyk7RV2NRlJ2SuzpK534rfFz4YfAvwFqPxS%2BMnj7SfDPh3SoTLqGs61fJb28K9gWcgFieAoyWJAAJIFfM83/BRL41ftPk6H/wTQ/Zkv8AxbYzHYvxe%2BJUNxoPhGAf89YBIgvdVAIIxbxKh4Pm45rY%2BGH/AATT0nXvHunfHv8Abv8Aixe/HHx/ps32jRo9csUtfDXhuXsdM0dCYY3XgfaJjLOdobeprs%2Bqxo64iXL/AHVrL7to/wDbz/7dOr6tGlrXfL5LWX3bL/t5/I42%2B8aftPf8FUFPh/4RJ4k%2BDn7PV1xqXjy8t3sfFXjy2PWLS4HAfS7GRet5KBPIrL5aICzV9XfBz4NfC79nz4Z6P8HPgv4IsPDnhnQbQW2laRpsWyKFASSe5d2YlmdiWdmZmJYknpqKyrYh1IqEVywWy/Vvq/N%2BiSRnVrupFQiuWK6fq31fn9ySCiiiucwCiivMv2mP2tPhJ%2Byx4fs7zx3eXeoa5rUxtvCvgzQLY3esa/ddoLS2X5nOcbnOETILMoq6dKpWmoQV2%2Bg0m3ZHQ/HD44fDD9nL4Yar8YPjB4ph0jQtIh33NzLlnkYnCQxIPmlldiFSNQWZiABzXiv7LPwg%2BJ3xp%2BLJ/by/an8MTaPrk1hJZfCzwBekM3g3R5cb5Zh0GpXQCmZhzGgWEHhhTfg7%2BzJ8Wvjr8TNL/as/butrRdW0iY3Pw8%2BFFjdC40vwcSPluZ3Hy32p7Tgz48uIkiIdGH0xXbOdPCU3Spu83pKS2S/li%2Bv96XXZaXcqbUVZbnjP7UH/ACW/9nH/ALLNff8AqFeKK9mrxn9qD/kt/wCzj/2Wa%2B/9QrxRXs1eeQFFFFABRRRQAUUUUAFFFFAHi/wJ/Y81j4E%2BNPF/jW0/ay%2BJXiOTxx4rh8Qa9Y%2BIbTw6IHu0tbezIT7JpEDpG9vaW0TAPnEIZSrs7NqfD/8AZag8J/Ghfjz42%2BN/jXx1r1lod9o3h3/hKjpkcGiWN5cW1xdQ28en2VrvMj2VmDJcGaQLbqA43Pv9UooA8Z/bw/5Ihof/AGWb4cf%2BprolezV4z%2B3h/wAkQ0P/ALLN8OP/AFNdErU8M/tgfBrWvjTqP7PPiK9v/C3jC0u5I9N0jxXZGyOuQqcC50%2BRj5d3E3OAjFxg7kXFaQpVKqbgr21dui7/ANfOxMpxja7tc9SooorMo%2Bcfih%2Bw54h8HePdQ/aB/YT8f2vw48bajN9o8Q%2BHrq1abwx4sk7m/s0IMMzdPtdvtlGWLCTNS/C//goJ4ct/Gdp8EP2v/Ad18HfiDdP5VhZeILpZNG15xxu0zUwBDcZyv7lzHMCwUxkjNfRNYHxM%2BFfw2%2BM/g27%2BHnxa8CaV4j0O/Tbd6VrNilxBJ6Ha4IDDqGGCDyCDXdHFwqxUMSua20l8S%2Be0l5S%2BUkXzJ6SN%2Bivl1f2QP2mv2Xf9M/YR%2BPQvPDkPK/CP4sXM%2BoaZEg/5Z2GogteWAAGFRzPHk8qAKvaF/wAFKfA/gfVrfwV%2B2t8LPEHwO12eUQw3nixVuPD15Ie1trNvm2YY5xMYXGeVFDwMqivh5e0XZaSXrF6/%2BA8yDkv8Op9KUVV0TXNE8TaTb6/4b1i11Cwu4hJa3tjcLLDMh6MjqSrA%2BoOKtVwtNOzICs/xT4U8LeOfD934S8beGtP1jSr%2BExX2marZpcW9xGeqSRyAq6%2BxBFaFFNNp3QJtO6Pm7wR/wS6/Z7%2BCfxT034ofsueKfGvwohttXS%2B1jwZ4H8TyReG9bAfLw3GlziW2jVhlc26wuM5DA11n7cvi3XfD3wg0vw1oPim90FvGHjbRfDl3r2nymKbTra7u0SaVJB/qmMYZA/G0yAgg4r2Ws3xd4O8IfEDw3d%2BDfHvhXTdb0i/j8u%2B0rV7GO5trlMg7ZIpAVcZAOCD0ro%2Bs1J1ozqtyt33%2B/r877djo%2BsTnVjOq%2Ba33/wDB%2Bdz5l%2BDfjL4qeGv2QPir4g/Z%2Bl8Q%2BL10nxJq8Pwk%2B3ahLrF1dWiLEkaxTXkrPdRpN54TzJTkRld2AANDwB%2B1p8U4fhz4X0HRtS0X4oeO/E2sX9ha219pE/g1dM%2BwQu97/aqO189rJE6rGQkRJaeLEe3L17F4s/Z68BeIvC8/hbw9eaz4SWVrUw3fgvWZtMltvs0flwrGISEVFT5fL2mNhgMpwMeWeM/2Bp9N0TR4v2ffjHN4V1WytPEFvrWv%2BIdKbWbrVDrPlG9vmbz4Nl8JIVkjlO%2BFNzqYGQhV6Y1cLVb59Lu%2Bq8urXS%2Bulru/Q6I1cNUb59Lu%2Bq8urX36db9Dxv8Aa%2B/4Klxan4D%2BFPwm%2BAfiG48KeOvjFJo7319d6d9pHhHTb95YTNM4%2BVZRNGyDAJURuzCPKNX0r%2BzL%2BxT8C/2W7I6h4N8O/wBoeKLyArrvjbWWNzqmpyOQ0ryTOSyq7AMUUhcgEgkZr85/24/gb4e8IftV/D/QPgVrHhzxday%2BL9Nis9G0LxI13rA0uOytbO802S2hhcJlreW4Fy8gH%2BmTjYPLG79Q/jvovx0174b3enfs4%2BOvDvhzxWZonsdT8U6DLqVkqBwZEeCKeFzuXKhg42k5wcYr18xi8HlmHo0G4Qq8zlfRt81lzaczjFWsmrXu9XqfN06OWY3OatWLUpQcVF83MoRcb3W6hNvmUrXlaMW7J2bfFv7OX7P/AI8sZtO8ZfBLwpqUU8Txv9r8P27ttcENhimVJBPIIPvXgvhn/gldpnwqsH0P9n/9sb4w%2BC9Ja4eaPQ7HxHFLZQM5y2yNoRjPqSSe5NP%2B2/8ABbbw5802gfsveLY0%2B99n1HxDocsg9laO9UH6tipLX9o7/gq1pMhtvEn/AATM8F6mEjdjd%2BG/j/DiRgpIUR3WmxEZIAGWxzzgCuLD4rNMLBwo4iLi905Ra020mmvuSOzE8O5di5qpOMHJbNS5Za76xdN/Jtjrz/gmQPHF7p1v8d/2vfih490Kx1S3vp/C2vanAbC%2BeFw6pPGI/nQkYIyDgnBHWvprR9C0Tw9afYNA0a0sYM58mzt1iTOAM4UAdAB9AK%2BX/wDhtH/goXYn/ic/8EePGbKOr6V8XvC1wPwD3kbfpS/8N7/tgQjF3/wSD%2BMSt3EPizwvIPzGp1nip5pjVGNaaaWyUqaSvvpFxV/O1/M0wmQ0MC5SoQinK13zqTdttZTk7Lte3kfVNFfK3/DeP7Zlx8unf8EgPi4zdhc%2BNPC0I/M6kaT/AIbF/wCCj19/yCv%2BCPviCEH7raz8a/DUA/HyZpiPyri%2Bo1%2BvL/4HD/5I7vqdfrb/AMCj/wDJH1VRXyqfjv8A8FefE/7nw/8A8E9fhZ4ZJ4WfxT8eJboD3KWWkt%2BQY0f2T/wWz8UfuL3xp%2BzH4Nif78unaJ4g12aMf7Jlms0J%2Bq0fU5L4pwX/AG8n%2BSYfVGvinFf9vJ/kmfVVFfKf/DGP/BQvxn%2B5%2BK//AAVp8Q2trJ/r7P4a/CjRdFIHok92t7KuPXd74oP/AAR9/Zu8W8/tDfFz40/Fsf8APv8AEP4vapLa5/69LOS2t8H%2B75e32p%2Bwwsfiq3/wxk/z5UHscNH4qv3Rb/PlR6h8c/2%2Bf2J/2aI5v%2BF7/tU%2BBPDNxB9/TtR8SW/20nuFtlYzOfZUNeV/8PUbf4oj7L%2Bxj%2Bxf8ZPi203FlrqeFD4b0GU%2Bp1DWjbAr7xxyewORn134I/sO/scfs2eVJ8Bv2XfAfhS4iHy3%2BjeF7aG6b3a4Cea592YmvU6OfA0/hg5f4nZfdHX/AMmHz4OHwwcvV2X3R1/E%2BTT4J/4K8ftDnPjX4t/Df9nzQZ/mOneBdOfxV4hCHgxvfXyQ2ULY/ijtpcdQfTofhX/wSo/ZI8C%2BMbf4rfEzRdb%2BLnjm25i8b/GPW5PEF7Cc5Bgjn/0a0wen2eGPHQdBX0jRSlja9uWFoLtFW%2B97v5yE8XWtywtFf3Vb73u/mxFVVUKoAAGAB2paKK5DlCivN/GH7WvwB8J6F4v1W1%2BIum65d%2BB7OS48Q6H4fv4bm%2BgKFQY/KDjD7nRDuKhWdQxXOa818Z/tWfFbxxr/AId%2BEfw30ZPh54t1HXrrTtdi8Z6ZFqB06aPT3vbWJRb3SxOlyEYLOruB5brs3MpHVTweIqdLLu9Ol/XbyfQpRkz6Sql4j8SeHfB%2BhXfijxbr1lpemWEDTX2o6jdJBBbxjq7yOQqKO5JArmPgB8VLr4x/DG08Y6ro66dqSXd1Yavp6OWWC7triSCUKTyULRllPdWWvNvEv/BP7wB8YPivefE/9qP4g%2BIPibZx6q114X8D%2BIZY4vD2hx7sxqLCBVju5FB2%2Bdc%2BaSMcA81MKVKNSUa8uW3ZXb8l0%2BbdvUElfU5jUf20/jB%2B1PeTeDP%2BCdHgGHUtL8xoNQ%2BNfjG0lh8OWWDtc2EXyzavMuGA8vbAGC7pSDiu%2B/Zu/Yp%2BH/wF8QXnxX8TeItT8e/E3WYBHr/xJ8VlZL%2BdOpt7dVHl2NqCTtt4QqgY3FyAa9hsrKz02zi07TrSK3t4I1jgggjCJGijAVVHAAAwAOlS1pUxdoOnRjyRe/Vv/FL9FaPkwctLLQKKKZc3NtZW8l5eXCRQxIXlllcKqKBkkk8AAd64yTxz9qD/AJLf%2Bzj/ANlmvv8A1CvFFezV4V8ePFXhjxv8UP2aPFfgzxFY6tpd78Y797PUdMu0ngnX/hC/FI3JIhKsMgjIPavdabTTswTTCiiikAUUUUAFFFFABRRRQAUVzPws%2BNPwc%2BOeiXfib4J/Fnwz4x02w1KTTr7UPC2vW%2BoQW95GFaS3kkgd1SVQ6FoyQwDqSORSeDvjb8GfiJ4v134e/D/4ueGNd1/wtOIfE2h6Pr9vdXmkSEsAl1DG7PbsSrACQKcqfQ0AcB%2B3h/yRDQ/%2ByzfDj/1NdErufjN8CPhB%2B0L4Pk8B/Gf4f6d4g0x23xw3sXz28naWGRSHhkHaSNlYdjXDft4f8kQ0P/ss3w4/9TXRK9mqoTnTkpRdmuqE0pKzWh82L8L/ANtT9lT978DPGn/C4vBcP3fBHjzUxb69ZR/3LPVSNlyB2ju1zhQPOrsPg3%2B3N8CPi34nHwz1O/1DwV45UDz/AAH48sTpmqAn/nkkh2XSnGQ8DyKRzmvY65L4xfAb4M/tBeGD4O%2BNXw00jxLp4JaKHVLNXaBj/HFJ9%2BF/9tCrD1rs%2Bs0a/wDHjr/NGyfzXwv/AMlfmY%2BznD%2BG9Oz2%2BT3X4o62ivnFf2Vv2nPgL%2B//AGRP2m577SYv9V8P/i75urWKr0EdvqCEXtsoHChjOo/u44p4/b11r4TH7D%2B2b%2Bzd4r%2BHKx8SeKtMhOveHmHQObyzUyW4PXE8MeB1PBNL6lKprQkp%2BS0l/wCAvX7nIftlH%2BIuX8vvX62Pouqut6HoniXSbjQPEej2uoWF3EY7qyvbdZYZkPVXRgVYH0IxWP8ADP4vfCr4z%2BH18V/CT4j6J4l01sf6boepxXUak/wsY2O1v9k4I7iuirklGdOVmmmvk/0NU01dHzbrX/BMn4Q%2BF9XuPF/7JnxB8W/A/Wp5DNIPh5qYTSLmXsZ9JuFkspFHosaH/aquPFP/AAVF%2BBB8nxR8N/Anx10WH5RqPhS/PhnXSo6u9pdtJZytj%2BGOeLPoO/01RXWsfWkrVkqi/vK7/wDAlaX4s05311Pm/Sf%2BCpn7MGl6lD4c/aAt/Fvwc1ed9kdj8V/C8%2BlQue5S9w9m6%2B6znP51734N8deCPiLocfif4feMtK13TZv9TqGjajFdQP8ASSNmU/gau6rpGla9p02j65plve2lwhS4tbuFZI5VPUMrAhh7GvBvGP8AwS6/Yj8S63J4v8MfB4eBdffldf8Ahnq114cukf8Av50%2BSJHbqfnVuTnrRfL6m6lB/KS/Hll%2BLD3H5H0DRXzT/wAMe/thfDjj4Cf8FH/Fc1rH8yaR8V/C1h4jjc/3Tcxi1ugO2TIx9cmvOvib%2B25/wUG/Zz%2BJ%2Bi/Azx78Cvhx8UPEfiOyln060%2BF%2BsapY30MCnZ9qmt7q0uY4o93czbeDkgCtqGVzxlTkw1SM3q7XcXZatvmSSSW75rHNi8ThsFQdatNKK9btvZJWbbb0SSbZ9D/tMftn/s9/slaVa3nxi8aeTfag5TStB06Brm/vWx0jhTkDtvfamSBuyQD4Z8WvGn7d37cvwz1r4TfDT9lqL4beEvE1kbK68T/ErWTDqBtnI8wpYW4MkTlcjD7lOcZ9PM/2SdTl/ZT87xz%2B2D/wT%2B%2BMWsfFe61G5udd%2BJ9j4Ui8URy75G8toJLO4mktwsW1CEiX7p5IwB9C2H/BWn/gn/Jdppnif49r4VvHO1rPxv4d1HRHRv7p%2B3W8S8exI969h0KeV1V9Toe2nF/xH70bp6OEISeiezm23vyrY8WGDzXOcPz4qTpU5r%2BHBe/ZrVTm02m09VCKtquZ7novwD/ZG/Z6/Zs062T4UfCrQ9M1KPTo7O71y302Nby7VQNxklxvO5huIzjP0Fek1574M/a3/ZU%2BIwQ/D/8AaY%2BH%2BuF/urpPjGyuCfbEcpOfau/t7m3vIFubS4SWNxlJI3DKw9QR1r53FTxdWs54hycn1le/4nt0MNRwlJUqUFGK6JJL7kkPooormNQooooAKKKKACiiigAoqprGvaH4dtDqHiDWrSxgXrPeXKxIPxYgV5l42/bx/Yl%2BHIceN/2uPhvp0ifet5/Gll534RiUufwFaU6Naq7U4t%2Bib/JMaTex6xRXzY3/AAVl/Yv1gm3%2BF3ibxZ4/uj/q7XwB8OtZ1Uyf7skNqYj/AN90h/bh/aM8a/L8Ef8Agml8VL8f8/XjvUNL8MwfXE9zJPj/ALY7v9mun%2Bzsavihy/4mo/8ApTX5Fckux9KUV81b/wDgrP8AEn7tv8EfhZZT93fUvFGo24%2BgFlblv%2B%2BgfakP7A3xZ%2BIX7z9pH/goN8WfEytxLpXhC5tfCmnyL3Rk06MXDL25uCcdSaPqlKH8StFel5P8El%2BIcqW7PpQSxtI0SyKWUAsoPIz0z%2BVeLfCvxX8QPhd8e/F/wf8AjR8WLzxDY32jQeKfCmtazaWlqILYSG1vbIGCKKMRwP8AZHBYFyLz5mY11H7Pn7KnwD/ZY0nUdH%2BBXw/TRU1i4SfV7iTULi7ub6VFKrJNPcySSysASMsx61oeJP2ePgl4z%2BKenfGvxn8NtN1jxPo1obbRdV1aI3J01CSWNskpZLd2z80kaq7AAMxAAERnh4SnHVxa0dle%2Blurtre%2Buwk4q58y/wDCjPE3i/xH4T%2BC9x8P9WvLCz8S6/MfHlgUOm33hXVftNy/%2BkqSBdG5FjJ5e07pIQ%2BNrFh6T4M/Y28W%2BJrrV9T/AGkvGenaley6Xoljo2oeEY57G4hm0x5ZYtVMjszR3jvIoZVJjCwqvzBnB%2BhOnSitamY15K0dPz3u/S/ZaDc2c/8AC74Z%2BF/hB4JtfAXhAXbWltJNK8%2BoXr3NxczzSvNNPLLIS0kkksjuzHuxwAMAdBRXnnxr/ax/Zw/Z1jUfGX4xaJol1Lj7PpUlz5t/cZ6CK0iDTyk%2BiIeorljGtiKlopyk%2B2r/AAM5TjFXk7HodR3V1bWNtJe3txHDDEheWWVwqooGSxJ4AA7187t%2B1F%2B1X8cB9l/ZW/ZRu9I06XiPxv8AGOR9ItAOzxadHuvbhSORvEAPqOtOtv2B7n4rXMet/ts/HXXvijIriRfCsY/sjw1AwOVA0%2B2bNxtPG65klyOoFdH1SNLWvNR8l70vuTsvnL5GPtnL%2BHG/nsvx1fyRZ8U/8FAfB/iPXrn4efsieANU%2BMfia2kMV03hiVYtE06T/p71aT/R4%2B/yxmWTjGzNZ8H7HHxY/aJuI9e/b0%2BK8etadvEkPwq8EvNZeHYSDkC6kJFxqZBAP70pFkH91g19BeGPCvhjwToNt4V8GeHLDSNMsoxHZ6dplmkEECf3UjQBVHsBV%2Bn9bjR0w0eX%2B89ZfftH/t1X/vB7Jz/iO/lsv%2BD8/uPDPj94c8PeEPil%2BzP4Y8J6FZ6Zptj8YL2Gy0/T7ZIYLeMeCfFGEREAVVHoABXudeM/tQf8lv8A2cf%2ByzX3/qFeKK9mribbd2b7BRRRSAKKKKACiiigAooooA%2BVf2Fvil4ah%2BLPx206H4X/ABF0K08QfGW3vvDb638HvEOk2t1ZN4d0SxWaOS6sIoxGLixuUJyAgjDNhHRm4j9hT4f/ABB0v4w/Cnwxq3wo8UaHqHwn%2BGfjHQfiVr2s%2BGrqys9T1O/1nS5oWtbqWNYtTW5ezu77zrd5VjDjzCkkxWvuGigD54/4KF6b8V5/B/gzUfDnjTw9a%2BFofjD8PRr2jXvhie41C8c%2BM9G8tre8W9jjtgrbSwe2mLAEApkEbXjlP25/hl4x1LxZ8P5fC/xO8L3d288PhHUANF1bToyeIba7XdBcKo/57qjHpv71P%2B3h/wAkQ0P/ALLN8OP/AFNdEr2atKVT2b2TT6Nf8M18mY16PtopKTi1s07f5p%2BjTR4l4N/b5%2BBWp6/D4F%2BLB1b4Y%2BJ5jtTQPiNYHTTM3T9xcsTbXAJ4BjlYn0GcV7XDNDcQrcW8qvG6hkdGyGB6EEdRWb4x8EeDPiHoM3hXx94S0zW9MuBifTtXsY7mCT/eSQFT%2BVeLS/sE6H4AmfUv2UfjT4u%2BFc%2B4uuk6Ve/2jojOepbTrzfGoP8A0yMXsRW1sJV2bg/P3l9695fczmvmFDdKovL3Zfc7xfycT32ggEYIyD1FeAj4h/t9fCD938Qvgl4Z%2BKOlxddY%2BHuqf2ZqQQdWewvmMbuRziO4%2Bg7Vf8N/8FC/2ZL7V4vC3xE8S6j8OtclOBovxK0ebRZc%2BiyXAEEme2yRs9uooeDrtXguZf3Xf8Fr%2BA1mOFTtUbg%2B01y/i/dfykWPiV/wT%2B/ZW%2BJPiBvHMPw5PhbxQclPFvgO/m0TUlc/xmazaPzT/wBdA49uK50fA39vT4QjPwV/ay0rx3p0fEOgfGHw%2BDOE9BqenCOQt7yQSe%2Ba%2BgdK1bStd0%2BLVtE1O3vLWdN0FzazLJHIvqrKSCPpViqjjcTFcs3zJdJLm/PVfJo6PY0n70dPNaflo/uPncftjfH/AOG37n9o39hXxrZRLw2u/De6h8T2TAdZDHD5d3GvfBgJHv1r33QNbsvEug2XiPTUnW31C0jubdbq2eGUI6hlDxuAyNgjKsAQeCARVuo7uGW4tZbeC6eB3jZUnjVS0ZIwGAYEEjryCPUGsqtSlUtywUX1s3b7ne33suEZx3lf7jgPgp8TPiB458a/ELwv4y0vRkt/CXipNM0y%2B0eSXFxG9nBd7ZVk6SotxGrFTtJzgDGKpeG/2q/CWuaX4k8Wap4G8SaL4a8Mpqclz4s1SC2GnXMVhJJHcSRPFO7gBopMeYiE7DgcVgeG/DGpfsbeAfF3j74n/tCaRqGjXWtXmu6trXiXQks5xLNEiKjSWziNzvjjVQkG4rhFUnFfD/wO/YB%2BJf7XHwc8VftZfF/w9IT4zvU1HQ/hz4eu20u0vIk1ANNcfZ1WCMvJbLIIvMOZWkEkkg37q9rC5dgsRCpXrT5aScIppPWT3STtrZNu7tG93ujycVj69GtDDUY81SSlJptK0V1e7td2Vlq1bue/eA/2p/2v/wBuPQb74ofs8eLvBvwh%2BGtletbw%2BI/FUMeo6xdN8u13t2YQWysHUhXO47lKs6sDXoP7Lv7A2pfBr4/a7%2B1j8Uf2iNT8f%2BOPEukfYL3UV0W202ze3Igx%2B4hLDIFvEAVZVwCSpJzXC674Y0vwf4r0H4jfGb4VTeHvh5qfiO9un8IzaKtykIs9K%2BwaVb3NrbiRN0kbzOqHKI1vbrncEA%2Bhv2V/DPifwH%2Bzn4W8PeNrF7S%2Bs9K3S6eQS1jGzs8drgZP7qNkix/0zrTHY6VHDShhFGnTn7rSjG7j1TnrKTulzapbWMMLlVKpXhVxUpVKkHzJyk%2BVS7xgrRWjajo3a929T0Sob/T7DVLR7DU7GG5gkGJIZ4g6MPQg8GvA4v8AgqN%2BxRaSLa%2BMvihqHhO5zh7bxl4Q1TSih9C1zbIn5Ma7fwn%2B2d%2ByH47Cjwd%2B1F8PtRd%2BkNr4wsmkHsU8zcD7EV4ksFjaavKnJfJ/mk/zPbVejJ6SX3oh8Z/sQ/sZ/EQu/jr9k/4b6tI/3p77wVYyS59Q5i3A%2B4NcDcf8Ejf%2BCdrzPc6V%2BzZZaNI5yX8Na7qOlHPt9juIsfhX0LpOt6Lr1qL3Q9Xtb2E9JrS4WRT%2BKkirVOGNx1JWjVkv%2B3pflf8AQ3U5W0Z82/8ADrn4Gabx4G%2BMvxu8MKPupoXxt11FX6CW5f8AWj/h3Lf23Gj/APBQL9pKzA6D/hY0Fzj/AMCrOXP419JUVX9o47rO/qov84sfPPufNv8AwwZ8ZrTjSP8Agpr8dkA6fbZ9CuD%2BbaYM0f8ADE37TacQf8FRPi0B/wBNNB8PMfz/ALOr6Soo/tDFd1/4DD/5AOeX9W/yPm3/AIYj/aUl4u/%2BCoXxdYd/J0Xw9GfzGnUf8MBfFK9GNb/4KX/tAyeosdV0S2z/AN86WcV9JUUf2hi%2BjX/gMP8A5AOeX9W/yPm0/wDBN6C6/wCQ3%2B3Z%2B0leg/eH/C1ntc/%2BAkMWPwxR/wAOqf2XdU/5HzxL8VfFWfvf8JF8Z/EMob6hLxAa%2BkqKP7Rx3So16WX5RQc8%2B5876P8A8Em/%2BCcuj3Yv2/ZK8L6lOP8Alt4gSbU2P1N3JJn8a9N8E/sufszfDRkb4c/s7eBdAMf%2BrbRfCVnalfoYolru6y/EfjnwT4PiM/i3xhpWloBkvqOoRwDH1dhUTxeNr6SqSl5Xk/wv%2BhLnK2rNQAKAqgAAcAUV5F4u/b%2B/Yg8DBh4l/a0%2BHsMifft4PFdrPKP%2B2cTs/wClcwf%2BCnP7Lesfu/hkPHPjmb%2BGHwX8NdYvt30kFsIz%2BD0RwONmrqnK3o0vvdl%2BJi69BOzkvv8A%2BHPoSivnv/hsj9oDxbx8I/8Agnb8TLwf8/HjPUdL8PxfXE1zJLj/ALZ59qQ6v/wVE8dfPYeDfgz8PbaXgjU9W1HxDeQj12wx2kJI/wB8j2qvqNWPxyjH1lH8lzMXt4P4U36J/rY%2BhapeIPEnh3wnpcmueKtestMsoRma81C6SGJB7u5AH4mvB/8AhkX9prxxx8av%2BChXjaWA8mw%2BHmgaf4djB7jzQk9xj/tqD6EVc0D/AIJofsbafqkfiLxj8LJfHGrIctq3xG1q71%2BZ2/vEX0skYP8AuoBR7HBw%2BOrf/DF/nLlX4Bz1pbRt6v8AyuL4l/4KVfsf6XqsnhnwR8SJ/H2tJwuifDXRrnX53b%2B7uskeNT/vOorPP7Qv7cXxWPlfA/8AYwh8KWUv%2Bp8QfGHxNHaFR6nTrDz5yfZ3j/Dt7z4b8LeGfB2kx6D4Q8OWGlWMIxFZabZpBEn0RAAPwFX6ft8JT/h0r%2Bcnf8I8q/FhyVZfFK3ov1d2fOx/ZE/aN%2BK/779pv9tjxJLaSfNJ4X%2BFtinhuxGfvRtcK0t7MmOP9cmfTrn0L4K/sh/s0fs8SNefB/4NaLpF/Ln7RrRtzcahOT1Ml3MXnkzz95z1PrXo9eeX/wAb9f0T4pad4I8SfCfUNP0fWtYk0rR/EM%2Bo2zfartbeW4/490YusTJBLtcncShyijBpPE4uvFwTtHsrRX3K1/nciSw9BqUt27Xd3%2BOtvwPQ6yfGnjrwt8PvDd34t8Wap9nsbLaLh4oJJn3MwVEWOJWd3YsoVFUsxYAA5rw34j/Fn4m%2BFviJ4u8ZxfEKaDTvB/iPSbK58Jz20BtJdJvIrdHu94jE3mLNP5m/zNqrCybepPlnhn4eteix%2BD/wns4dP8c2mhTyeLdOkiESnWdJvEutO1G7KgZe4uDn7VgmVS/zMEwLp4JNc05af03ftutdVqcVbM3GTjThrqteru0rJb6p6XTsj7D8C%2BPvCfxJ8PR%2BKPBmri7s3kaNiYnjkikU4eKSNwHikU8FHAYdxXmnxO/as8RaN44v/hL8D/2ePF3jzxNpzIl9Ilr/AGZo9k7osiibUboLGTsdWxCspwcYzxWz8BPD/jS38T%2BNvHHijwReeGYPEes29zZaLfXtvNIGjtY4pbhjbySIvmOvA3bisaFlViVHpVYP2VGq7rmXr%2Bdt7baNHUvrGIw6tLkfV21tqtFLa%2Bj1Tt2PAfjDcePLrx5%2BzDc/E/TNLs9ff4vXp1S10S7kntYpf%2BEK8U/LHJIiMwxjkqOc179XjP7UH/Jb/wBnH/ss19/6hXiivZqwbu7nXFcsUr3CiiikMKKKKACiiigAooooAKKKKAPGf28P%2BSIaH/2Wb4cf%2BprolTeMrX9tjwR4r1DxH8P9T8G%2BO/D9xdPNb%2BGNYhk0fULOIniCG7j82KXA/iljUnu3rD%2B3h/yRDQ/%2ByzfDj/1NdEr2SOWKUExSK21ip2nOCOo%2BtXCfI9k/U5sVhliYpc8oNapxdn%2BTTXk00eIw/t0%2BB/CMq6d%2B0b8NfF3wxutwRrrxJpBn0x39E1C082Aj3dk%2BnSvWvBvjzwP8RNHTxD4A8Y6XrlhJ9y90jUI7mI/8DjYitSaGK4iaCeJXR1KujrkMD1BB6ivJfGP7DX7M/ivWH8VaX8P/APhFtdbJXX/A99No14rf3i9oyBz/AL4arvQlunH8V%2BNn%2BLOLkznD/DKFVf3l7OX3x5oP5xieuVR8R%2BF/DPjHSJdA8XeHbHVbCcYmstStEnhkH%2B0jgqfxFeOf8KQ/a7%2BHHzfCL9q6LxFZx/6nRfij4eS7JHob6zME34sr/j39J%2BEmqfF/VfDEj/G3whomj6zDePEsfh7V5Ly1uYQqlZlaSKN48sWGxgSNoOecBShyLmjJP70/u3NqGMnXn7KtQnB26pSi/wDt6La%2BTSv2PMtU/wCCdf7NttqEuu/CWz8QfDPU5m3PffDXxHcaSpPvboxtmHs0RHbpUI%2BD/wC3l8OPm%2BGv7Vnh7xpap8sWmfE3wgI5Qvob3TWiJP8AtNC3vmuj/aB13xDbeJtF0v4XePNYTxdJcwLa%2BHdOWKW0ltmnj8%2Be%2BR428uFYt/7zfG2QFQsxClfj18dvE3wt8c%2BHPDelSeHbGx1K1uJ9Q1XxU91BZqUeJI4BdRRtHDI3mMw8wYIjOK6o1sVOybUr9JK%2B3qr%2BlmcFV5bh3UfK6ag4q8HZNy8otRuuqa00b3SObH7SH7W/gH5fjB%2Bw7qWpW8XEurfDLxVaaqr/AO0trc/ZpwPYBj/Ks7Wv%2BCqX7HXgnfY/FrxN4m8EaokXmNofi7wLqlpdlfVV8hlcZ4yrEVgeNv8AgrV8EbLx7cfCr4J%2BAvEnxP19Fjitv%2BEKhjnsZrp/uxfaSwGzOR5iqw%2BVuMDNZn/BOH4K/DHWNP174v8Axc0HSdd%2BLHifUptZ169v7Ca4NhaXMjeRbWs9ypSaBQjL5tuWjYrtDsEU16cMDhqOGliMfScFpyxi7SlfraXNyxS3k11SSbvbz/7XqYjGRwuW4mNRty5nNXjG3ROPLzSb2Sb0Tbffz79o39quz/4Ke/Cq9/Zp/ZP%2BA3ijVn1LU7KRfG%2BvxQ2GnaX5NwkrXK7pC8uEVl27Q2HOAThT99WFvLaWMNrPOJXiiVHkEYUOQACdo4GfQdK8s8dfsKfsc/Ei4N94r/Zt8Ivdltxv7HR47O5J9fOtwkmffdXO/wDDv7wNoHy/Cf4%2BfF7wVEv%2BqtNE%2BIl1c2yH/rjf/aEx%2BFYYzGYDFUIUKKdOEG2k7zd5Wu3K67LRRS%2BZ34PCZphMRUxFe1Wc1FNpqCSjeyUWn/M9XJt%2BSPeqK8GHwB/bY8M8%2BC/28F1OKP8A1Vp41%2BG9jdbh6NNZvbP%2BOCaPt/8AwUx8OfPc%2BHPgp4riTqtnqWq6PNIPYSR3KA/8CxXnfVov4akX82vzX6npfXZx%2BOjNeiUv/SZfoe7yxRzRtDNGrowwysMgj0IriPFn7MX7Nfj0sfHP7PfgfWS/3zqvhOzuCfxkjNef/wDDRX7Zmi8%2BKv8Agn3fXMa/6ybwt8SdLvPxCXH2Zz9MUf8ADc2oad8niz9i3456ay/6xofBEeoIPobK4mJH4VcMPi4O9N/%2BAyX6SQnmGCa9%2B6/xQkvzgw1b/gmB%2BwDq1yb3/hlrwzYzHpLokUunsPobV48fhVX/AIdlfsy6dz4M1P4jeGyOh0H4ta9Dt%2Bga7YD8BVv/AIeP/sz2HyeL18c%2BHX7x698MNbg2/Ui0ZR%2BJqS1/4KX/ALCN1MLeX9pbw/aSH/lnqfnWjD6iaNSK6OfO0t5v73/8kZfW8mv8cF80vz5SgP8Agn1aWvGi/tnftBWQH3QPihLc4/8AAqKX9aP%2BGH/idY/8gP8A4KIfHCL0F9f6PdY/7704V1%2Bm/tz/ALFurgfYf2s/hwSeiyeNLKNj%2BDyg1t2X7T/7NWpAHTv2hvA0%2Benk%2BLbNs/lLUPEZmviT%2BcF%2BtM2jUy6Xwzj8pr/5M82/4ZH/AGn7fjTv%2BCk/xFUDp9p8LeH5v52IpP8Ahln9sZeIv%2BCmXjAD/b%2BHfhxv/bOvXIPjb8GLoZtfi74YkH/TPX7Y/wAnqwvxW%2BFzjK/EnQD9NYg/%2BKqPreMW8V/4BH/5A0UcK9pf%2BTf/AGx43/wyt%2B2DJxcf8FMfGZH/AEz%2BH/h1P5WdL/wx/wDtIXXGqf8ABSP4nOD1%2ByaDoMH8rA4r2J/i18K4hmT4meH1Hq2swD/2eqlz8d/gfZgm8%2BMvhSIDqZPEVsv83oWKxr2iv/AI/wDyANYVby/8m/8Atjyf/hhXxxefNrf/AAUG%2BPM57ra6/pdqp/79acCPzo/4d4%2BGrzjxB%2B1h8fdTU/ejn%2BLd7CjfVbbyhXol9%2B1d%2By3pYJ1L9pPwBbgdfP8AGNimPzlrC1T9vr9iLSATd/tZ/D1sdRbeLLWY/wDkN2q1XzSXwp/KC/SmZSq5bD4qkfnNf/JnMf8ADr79j%2B%2B%2BfxX4b8W%2BIJD95/EHxL1263fVWvNh/wC%2Ba1PDn/BNf9gbwvKJtO/ZH8CzuDnfqmgx3zE%2BpNwHyarv/wAFNP2GC5jsP2gLDUWBxt0fS729P4CCF803/h4n8DtS48EeBfij4mJ%2B7/YXwo1l930Mlsgq3LOmrNzS9Wv1iZLF5OnpOD9LP8lI9T8I/BX4N%2BACp8B/CXwzohT7h0jQbe22/Ty0GK6avBj%2B2p461j914I/YT%2BM9/IfuNqmjWGlxH6tdXisPxWj/AIXh%2B3drv7rw9%2Bwvpekb/u3Hir4qWi7Pdo7KC4z9A1c0sNiZO82vnJf/ACTZqswwiVoKT9ITf/tqR7zRXg39m/8ABTDxL%2B6u/FHwW8JxP1ex0zVNYnjHsZJLZCfqtJ/wy9%2B1J4o/dfEn/goH4q8hvv2/gnwjpej4/wB2R47iUf8AfZqfq9NfFVivS7/JfqP65Vl8FCb9eWP5yv8Age9VwnxE/ah/Zu%2BEgkHxM%2BPHhHQ5I87rbUfEFvHMT6CMvvY%2BwBNcB/w7n%2BAWufP8WPEnxA8fP/1OfxD1K5j/AO/McscOPbZj2ru/h3%2Byn%2BzN8JTHJ8NfgD4P0WaPG26sPD1uk%2BR3Muzex9yTRy4OO8pS9El%2Bbf5Bz5lPaEY%2BsnJ/dFJficGf%2BCifwY8R/J8FfAPxF%2BI7dBJ4M8CXj2%2Be2bm5WGDH%2B15mPej/AIW3%2B318Qv3fw/8A2U/DHgq3bmPUviP40FxJt9TaaakmD7GZfQ4r3uij21CPwU1/282/w91B9WxdT%2BJWfpFKP4vmZw3wR8LfH3w9Z6hdfH34s6L4lvb2WN7O20DwydOttNUBt8aFppZJgxIO5yCNvTmsr4nfCv4v%2BMfjd4b8deFfGXhzTdF8P6XcJHHqWjT3l0LueRFlljCzxRqfs6GNXbft82Q7DkV2Hjn4qfDH4Y2f9ofEj4i6HoEG3cJdZ1aG1Uj2MjDNeXz/ALfvwK1iVrP4Rab4t%2BItyjFWi8CeE7q8iB97llS3A9zJilB15TdSMd/LTt5L8TDE4nK8LBUK9ZJpp2c7zdnfZc03/wCAnd6x8Bfhv4s1jS/E/jvRhrer6RL5lpql5iOQ4kEqK6wBElRHVWVXVgpUHrzXZ4A6DrXh5%2BJv7cnxD%2BTwD%2Bzn4b8EWrcpqPxD8Tfapyp7/Y9PDYb2adffFIf2WfjP4/8A3nx6/a/8V30LctovgW2i8PWeD1Rni33Mi9uZhn9KUoNpe0mtPn%2BC0/Ezhj3Jv6phpyv1aVNP1c7Sf/gDPQ/il8ffgn8E7P7b8WfinoegArujh1HUUSaX/rnFnfIfZVJrzr/hr7xt8Rv3H7NH7MvizxRE/wDqvEPiSL%2BwNJKnpIsl2vnzL7RwnPr6dh8Lv2Tv2cvgzef2t8PPhDo9pqRbc%2Bs3MBur927lrqcvMT9Xr0Op5qEdk366fgv8y/Y5xiP4lWNJdoLml/4HPRfKB4J8aJPG8vxB/Zjk%2BJFrpcGut8X706nFok0klokv/CFeKciJpVV2XGOWANe914z%2B1B/yW/8AZx/7LNff%2BoV4or2asm7u56kI8kFG7dur3frtr8gooopFBRRRQAUUUUAFFFFAHy78Bv2xvjb8QPjF4Wk8baZ4WXwH8TNa8XaZ4Ks9L025i1XS5NFu5YoZLy4e5eK6W7t7a5mKxwwG3by48z5Mgu/Br9qf4u%2BJv2wvFfwU%2BL3ibRPDemW/iXUNP8B%2BG734T63Y3XiK0t7WGb7Tba7cXf2C9cbp2eC3gLqkLE7QrNXReDv2DPA3gL4lyfEjwv8AF3xvALW91e78K6BJPp0mn%2BGJ9VvkvdTeyR7IyE3Eiuv%2BkPP5Mc8qW/kK2Bvy/stQa18c9H%2BN3j743%2BNfEq%2BGNXvNU8HeE9VOmR6XoV5c2k9k80P2WyhuZmW1urqFPtM8wVbh8DdtZQDjP%2BChfxc%2BFHhrwf4M%2BFHiP4neHtP8U%2BIPjD8PZdB8NXutQRahqSR%2BM9GaRre3ZxJMFVWLFFIAUk4wa7Xxf%2ByH8KfEPiW98deF7/xD4P8AEGoTtNfa14P1%2BaykuJDyWkjy0MpJ674znvWX%2B3h/yRDQ/wDss3w4/wDU10Sum8RfFb4n%2BD9du4tZ%2BAeq6jo0c7C01Xw1qEN3K8eflZ7ZjHIpx1C7/wAayrV6dBJzvbyTf32Tt9x5uZUsuq0orGU%2BaKej5ZPldt7x96OnVNdrnOf8IX%2B2h8PufCXxe8MeO7Neln4y0dtPuwo/hF1ZZRm92h%2BvrR/w1D4%2B8Hfu/jV%2By14z0ZV%2B/qXhtI9dslXuxa1PnKP96Ee9dFon7UfwO1e9XSL/AMbR6JqB4bTvEttJp0yn0xcKgJ%2BhNd7aXlpqFsl5YXUc8MgzHLC4ZWHqCODSpYihXV6c1L0af/BXzSOChhYVFfL8bLTo5RqxXqp%2B%2Bv8AwNHAeBv2sP2b/iNdf2d4V%2BMeiPe7tp02%2Buvsd2D6GC4CSZ/4DXoSsrKGUggjII71geOfhR8MPiba/Y/iL8O9E12PbhRq2lxXBUf7JdSV%2Bor5b/b0%2BFHhr9kP9mrWfjJ%2BzXc%2BJvCWq2d5ZwRnRPEt6um2izXEcbXFxbF3QxIrHhU%2B8V46124XDVcZiYUKfxTaSvpqx4rG5zleGnXrwp1YQTbcXKErL%2B7JTi36SX%2BXtXxzi/Zb%2BBEupftKfFfW4PCl68IW91u11qezn1ExxFUiMcMi/bHC8JGyuRgEDjNfPPw5/ZT%2BIH/BQ9k%2BP37VXi3xdpXge41hJ/A3wxuLzy0l0mNEENzeKpH76YguxILbXbaQGUroeGP%2BCbXxVh8caf8AtD%2BLf2hfDvxd8Vrao9lP8R/Dc9xp9uCAwa0SG68uFehUiM4PzDBJr28fFD9sDwmPK8Xfsw6R4gRPv3vgrxnGCR7QX0cJ/DeTXqzxeHy6m6eEm51Ho6jVkl1jTT95X6ydnbRKKueLUUcbXf8AaOFnTo3b5Ixc1Nu3vVJUpNP/AA8rV9ZuWiOas/2P/FPhnStV8CeApPDWh%2BGrS81bVfC0OlWrRTC/uYitqssaosccVsWIUqzFwsedu07uq%2BAXgHxba%2BJrbxZ4k8C3Phay0LwXZeGdF0S7vLeaUrEQ80zNbu8ezKxInzZwjEhd2Ki/4bP8GaL/AMlL%2BEvxH8JKv%2BsuNY8FXE0Cn/rrZiZD9c1s%2BFv2wP2XPGUgg0L49eFzMTgW15q0drNn08uYo%2BfbFeVPE1aifNq316%2Bf3noYWpw1DERdLERi19lyUdm2laaptKN3ZJW73sir8Rvj58Vfhz4yvNLH7JvjHxF4fh8v7J4h8LX%2Bn3LXGY1Z/wDRZLiOVNrFl6HO3I61h/8ADfvwR0f5fiT4Y8f%2BDG/6mj4ealCg/wC2kcMkePfdj3r2bTdV0vWbVb/R9St7uB/uzW0yyIfoVJFWKlTpWs4fc3/wT15YfMXJzo4nR6pShGS9E4yi7dt/Vnl3hb9tv9kHxkwj0H9pTwY0jHCwXWvwW8pPpsmZWz%2BFehaF4p8MeKIPtXhrxHYajFjPmWN4ky4%2BqEiqXin4YfDXxwGXxr8PND1gMMMNU0mG4z9fMU157rv7An7GHiCf7Vdfs2%2BFbWXORLpOnCxYH1BtihH4U/8AZ33X3P8AyJvnkOlKfzqQf5TR69RXiQ/YC%2BBumc%2BB/EvxC8MHt/wj/wAS9XiA%2Bge4cD6YxR/wx14p075/C/7aPxjs2H3VvNfs75B9Rc2jsf8Avqjkovaf3p/o2H1rNo/FhU/8NWP/ALdGLPbaiu7Kzv4jb31pFNGeqSxhh%2BRrxf8A4Z%2B/azsPl0b9vXVnQfdXWPh9pNxj6mNIifzo/wCFY/t5aZzYftW%2BCtTx0Gp/DB4s/Uw3/wDSj2UOk1%2BP%2BQf2jil8WEqfL2b/ACqI9J1L4OfCLWSTq/wr8N3RPX7Todu%2Bf%2B%2BkNYl7%2Byj%2By3qRJ1H9mzwBcE9fO8HWL5/OKuR/sv8A4KM2nyxeNPgvfAdGm8O6tAx/75u3H6Uef/wUch/5hfwSuP8At/1iHP8A5CetF7WO1Vf%2BBMxljaEvjwlT/wAFRf8A7czcn/Yg/YwuTum/ZI%2BGZJ6keBdPB/SGq7fsGfsSucn9kn4c/h4Osx/KOsv%2B2/8AgovD/rPhx8Gpv%2BuXi7VV/wDQrGj/AISn/goYvB%2BDfwnb3XxxqA/nYVfPil/y%2B/8AJ3/mZvEZc98HP/wQasf7B/7E0Zyv7JPw4P8AveDLI/zjq3bfsU/sb2Z3Wv7Jnw0jI/iXwJp4P5%2BTXP8A/CT/APBQ5%2BF%2BD/wlT3fxvqJ/lYUf2t/wUZm%2B54D%2BC0H/AF08U6s5/SyH86HPFPet/wCTv/MFiMvW2Dn/AOCEdpY/sw/s1aWQdN/Z58DW%2BOnkeErNMflFW7pnwx%2BG2iEHRvh7odoR0NrpMMeP%2B%2BVFeXbv%2BCjs3/LH4JW3/bXWJ8f%2BOpR/YP8AwUTv/lufiZ8HtPB/is/COpzsP%2B/l6oP5VDVSXxVF/wCBNmscbRj8GEqf%2BC4r/wBvR7YkaRII40CqBgKowBS14l/wqP8Abm1D5r/9sfw1YZ6ppfwrRsfRpr1v5Uf8M4ftM6n8niX9vbxUYz1TRvB%2BjWf5MbeRh%2BZrP2UOs1%2BP%2BRr/AGhi38OEqfN01%2Bc2e20V4kf2Lbi958Sftd/GrUC33lXxslkp%2Bgs4IiB%2BNU4v2Fv2RtX1G50zxRLrfie/s0D30Wv/ABG1S8kiU5wZI2utoBweWXnFHJQW8/uX%2BbJeLzV2Sw8Y3/mqx/8AbYM9d8TfE34b%2BClZvGXxB0PSQv3jqerQwY%2Bu9hXnmvft9/saeHrn7FcftF%2BGr2fOBBol4dRcn0C2okJPsKg%2BF37LH7Bl9YHWfhZ8FPhxq0EE5iN/aaXaX%2ByReq%2Bawchhn1zzXq%2Bg%2BFfC/hW2%2Bx%2BF/DdhpsOMeVYWaQr%2BSACj/Z13f3L/ADFCec4iClCVFRezXPP8bxizyD/hurwTrPPw3%2BB/xX8Wo3%2BruNH%2BHt1BC3/bW9ECD8TR/wALy/bD8UfL4I/YrGlxSf6q98bePbO22j1aG0W5f8Mg17dWb4i8Y%2BEPCFv9r8WeKtN0uLGfN1G%2BjgXH1cgUe0pLaH3tv/Ic8LjuXmr4txX92NOC%2B%2BXO/wATyL/hEP8AgoH4xGzXvjN8OPBUR5x4Y8K3Oqzj28y8mjT8fK/A0f8ADGWqeKP3nxi/ar%2BKPicv/wAfFlba%2BmjWco9PJ06OE49i5rb1v9t39lLRLv8As8fG3SNSue1t4fMmpyMfQLaLITVL/hrW/wBf/d/DP9mf4ma8z/6i5n8Prpds/v5t9JEce4U0e3qL4bL0S/4LPKlV4acuWpiHWfb2k6v/AJLTuvwNDwP%2BxR%2Byh8O7z%2B1PDXwG8PNfbt39papZ/b7rd6%2BfdGSTPvur0%2BGGG3iWC3iVERQqIi4CgdAAOleQf8Jd%2B3B4t/5APwc8DeEIv%2BenibxPNqU2PXyrOJEz7eb%2BNJ/woj9ozxb/AMlJ/a71S1gfmSw8DeHbXTAvsJ5hPLj3BFZynObvJt%2Bp2YfF0aEOTAYKdvKEaUfvm4v/AMlbPXNQ1LTtIs5NR1W/htbeJcyz3EoREHqWJAFeY%2BIf21P2bNE1FtC0v4jxeItTHC6V4QtJtWnZv7uLRZAp/wB4iqVh%2Bxd%2BzQusxSeONGuvGOrhTIs3jjX7jVZXA4LeVPI0ePogFd18OdY%2BFBW58KfDCLS7WPTmxNY6ZZC3jQbiu5VCqrLlWXcuRkEZrJ1IKSi2rs0dbOq0lFulRvtdupL7l7OF/vOD/wCF6ftF%2BOhs%2BE37K1/YQScR6t8RNYi0xEPqbaHzpyPYqh/lQfgt%2B018QPn%2BLH7TTaLayf6zR/hvo6WWPb7ZcmWY/VQn%2BHquv%2BJvDfhWyOpeKPEFjptsOtxf3aQoP%2BBOQK4S5/as%2BFF3O9j4D/tjxfdI2Gg8J6NNeKPrKAIQPcvWVXFYag7VJpPtfX7tX%2BBhXwuEpu2YYuU2/s8ygn6QpWk/vkch8cPC1n4K%2BI/7MvhTT9Qv7uGx%2BMF7Glzql89zcSf8UV4oO6SWQlnY56k17xXhfx71a9134ofs0axqOgXWlz3Hxhvnk0%2B9ZDLAf%2BEK8UfK2xmXP0Jr3St4yUoprqe/SVONKKpq0bK2%2B1tN9du%2BvcKKKKZoFFFFABRRRQAUUUUAFFFFAHjP7eH/ACRDQ/8Ass3w4/8AU10SvUrLxv4O1HVZtCsfFOny31vKYp7NLtPNRwcEFM5/SvLf28P%2BSIaH/wBlm%2BHH/qa6JXpviX4d%2BBPGAP8AwlHhDTr5iP8AW3FopcfR8bh%2BBrixv9oqCeD5G76qfMk15OF2nfq015Ey5uhd1vw9oHiaybTPEeh2eoWzfet762SVD9VYEV5f4/8AgV%2BzT8NdCvfiHqGqf8K8tLRDJea3o/iKTSYYR7hXEXPQAqc9B1xXkn7Rn7QfhL4R%2BNm%2BBP7KJ8UeKPiUY97%2BGtE13dpmiocfvtRmufMitkGQdmQxyoOwMpNHRv8Agn98c/ij4l0z4w/tnfEzQfihrNqgls/Bd8s1v4f0p/8AplFFhLhscF5Y8Nn5g2A1OFDloutneG5LJOMabhWqzi21zQgnTqRjo/fqcsf5edpo%2BdxuIo46q6VDDKtOLs5P4IPs5pKTkv5INy7uJz2lftc/tP8AxE1xdP8A2BNB8Y/E3Q4p2R/EvxB0W2sNHdVJBMV43ky3BBHI2hqufFX4Jf8ABR39peTR9B/al8N%2BDn%2BH1tfw3uueB/hxqjQ3GsmJg6Q3M94%2BPLDAErG2DjswVl%2BoLHxx448K2UWnav8AAq8gtLaNY4f%2BEbvILmJEUYAWPMbKoA4AXgVNH8fvhrC4g1%2B/vdFmJwYtb0ue2x/wJ02/rUw4y4dwCccI1hZdJVvaKovNSrxVOL7cu32XszBZAqtFwxOLqNS3inyw9OWSm3HupTd1v1Rh2f7SPhfwxaRaf4v%2BEvjPwrbW0axIbnwvJLawqowFV7TzUCgDA6cDpW14c/aR%2BAnitxDovxc0FpicC3uNQSCXPp5cpVv0rpNF8ZeEfEgB8PeKdOvs9Psd6kn/AKCTTPEfgTwR4wjMXi3wdpWqKRgrqOnxzjH/AANTUUamJrQ9pQrQqRfWyd/%2B3oSkj2VSzOC9yrCa/vQt%2BMJW/wDJTRtbu1vYFurK5jmicZWSJwyn6EdayvFPw6%2BH3jiMw%2BNfAmjawhGCuqaXFcAj0xIprkbr9kr4AvO15pPgU6POxyJ9A1K4sGU%2BoEEij8xUf/DPOu6V%2B88H/tEePbBl%2B5He6nDqEQ/4DcxOx/76rT2uOj8VJP8AwyX5SS/MmpPHShy1sPGa8pxa%2B6cUUdS/YY/ZQv7tr%2B0%2BDVhpVw3/AC38PXM%2BmsPobWSPFQf8MfWOmf8AIl/tEfFbQ1X/AFUEHjN7uJPYJeJMMe1av/CEftQ6N8%2BkfHXQdXx0i13wf5efq9tOn6KKP7a/a20j573wH4F1pR207XrqzdvwlgcD/vo0fXGvjpTXyv8A%2Bkyf5HlvAZMneWAlB94wt%2BNGpH8jK/4Ul%2B1HpPy%2BG/2zbqeNfuReIvAthdceheDyGP1zR/Zn7eekfu7bxZ8KdbRej3mj6jYSN9THNMo/Ba1f%2BFwfGvTvm8Qfst6xsH3n0fxFYXf5K0kbH8qX/hpW3tv%2BQ18DviPYgfeZ/CjTqv427yCj%2B0MKvibXrGS/9tF7LKYfDXrU/wDt%2Bsv/AEuE0ZP/AAn37bGi/Lqn7OngzWcdX0X4gSQZ%2BguLMfqRR/wvz9orT/m1/wDYn8RBB1fSfFmlXX5AzRsfyFa3/DW/wNg%2BXV9c1XTX7pqfhi/gx9S0GP1qzY/tXfs3agdsPxp8PofS5v1hx9fMximswwDdvax/8CS/Noanhr2p5m15SlRf/pUIswP%2BGstXtfl1j9k34uWxH3jF4btrlfwMFy5P5Uv/AA2d4Jt/%2BQ18IPinpw7m8%2BG2o4H4pGwP4V29j8bvgxqeDp3xd8MXGenk6/bt/J61rTxn4Pv8Gx8V6bNnp5V9G2fyNbxr0J/DNP0af5M6oQx8/wCHj4y/7h0n/wCk1EeZf8N0/s6w8anq3iWxbut54B1hMfj9lIo/4b0/ZQX/AF/xTaH/AK%2BdAv4v/Q4BXrsU8M674JlceqMDTq1NvYZ70xFN/wDcJ/pVPH/%2BG%2Bv2Ph9/466Un/XWGdf5xilH7fP7HB/5uC0D8ZXH/stev0hVT1AP1oD2Of8A/P6l/wCC5/8Ay08hP7fX7HA6ftA6CfZZJD/JaP8Ahvj9kI/6v43adJ/1ytLh/wD0GM16%2BAB0FFAexz//AJ/Uv/Bc/wD5aeQf8N5/srN/qPiRdT/9e3hjUpf/AEC3NH/DcnwGn/5BC%2BL9QPYWXw91ds/99Wwr1%2Bori%2BsrQZuryKIeskgX%2BdDaW4OhnttcTTXpSf61Tm/hZ8WtG%2BLenXWqaJ4Y8R6bFazCMjxH4euNPaXIzujWdVLr7jjPFcR8crK98L/Erw18RNI1KSGEa3aQ6x5fia6M8iSN5KwRWBJt2RtwLsNr/KSATzXpN58QPAen5%2B3%2BNtIgx187Uolx%2BbVyer/EP9lSDxLH401vxr4A/tqBAkOqT6hZG7RRnCrITvAGTwD3PrWMsRh4fFNL1aX6meNjGrgo0qteHOmnzNqGzvdJSfpa9nrdq55p8d7zQz491vXr65tJfEElppEvwxukdDNOyXH%2Bk29m3d2Y4dUOSknzfKOM/UPBl5r3ii7%2BH%2BjeHp08UvdeJIvEF59gaNLmyu4meOR5iArpI3lIgySpyAAFOPVW/au/Zk0pVsrX4saKwjXbHDp5abA9AIlP6Un/AA1h8I7r5dAi8S6u3ZdM8HahJn6EwgH86x/tHAf8/Y/Jp/lc8Wtg8prV5Tni4e87tKzeur1Tk%2Bb7Kla6h7rTKPwBg1jUfGOp%2BKH8Janotq/h7S7O9g1PTZbUzX8UZWTasir5gjULH5q5RhjYzAZrf%2BKfwo8bfEXVrabRPj54m8KafFbeXcWHh23sw077ifM86aCR1OCBgccZxnNZ3/DReoXny6F%2Bzz8Rrtj90zaFHaqfqbiZCPypP%2BFo/tCah/yB/wBmGSBW%2B7JrPjC0hx7lYRKfwpfX8M/hbfpGT/8AbUenSllqwX1aUp1Fe7cY1Fd3v9hRsvJSs9b7mV/wxb4B1T5fHnxS%2BJPidD96HWfH16sR/wCAWzRKPwArR8PfsW/speGJ/ten/ATw3PPnP2jVLAXsmfXfcb2z75zUn2j9r3VPmi034eaMjdBNc3t9Iv4KsKk/jR/wrX9ozVfm1z9pKGyVvvw6B4Qt48D0D3Dyn8cCj63OXwUZv5KP/pUv0M4YHKVLmp5e5PvKEb/fVnNnf6J4d8P%2BGrQWHhzQrPT4B0hsrVIkH4KAKt7l3bNw3EZAzzivNf8Ahmmy1H/kb/jL8QNZVv8AWQzeJnton9tlqsQxW/8AD/4G/Cv4XalNrXgfwklpe3MHk3F7JcyzzSR7g21pJXZiMgHr2q4VMXOa5qaivOV39yVvxPYoVMa5KPsYwh/jTaXkoxt%2BKKXxr8QfEDwjpUfibwheNJDbkedp8OiG5MhGWZpZA%2BYoggOSqFs4wTkLVf4naF4h8S3ukeMfDt7bXelW1nJLdWtz4lubC2kB2Okv7kES4x0kwuCcmrvxWl03U9Q0jwdqN9q8UOpTtHdjS7wQgxNiMCU4LFWZguFIOT1xWX440/Q7A3mmDwZo97pPh6wg1G5sNVsjcErh0Bh3sVi2JE3O05K44zmvGx2Y4Wk6/NJtRcU0rtxlyue3bkTlLfSL0b0MMRh6tWpUV/dfLbV6SWulk9O6622OPvtTtdc12HxnFoF3b65r91o2qeGJpLJjMsUkYhmgLgEKIk8wyISBhi2CW56b4c%2BDvFej%2BKtC0a78M3Nnb%2BF7S/tJNULx%2BRd2zy/6LHHhizfuwrNlQEZCOc1cufEHi%2BN5rnTtckKXeoXul2unrBGBaukbmBo8LncAhJ3FgeMAAVe%2BFt/CdS%2BxaPqst3ZXWi21%2B4mu2nMMz/KRuclhu2sSpPBB6ZrzsJmeHrZjClyu8nu%2BVdW07K7fM4ttppxVlJdsaGWxjWU5Su7p6JK%2Bt9d95a3VmlZHQeJvh74E8a3lnqHjDwdpmqzadvNi%2Bo2STeQX27iu8HBO1efYVqQw2mn2ohgijghiXCoihVRR7DgCsbxhoXiLxHNBZ6B8QZ9FSNWN4lnaQySyg424aQHy8c8gHOe2OcdPgL4Hu3E3i261bxDIDkNrmqyzKP8AtmCsf/jte1XxWYrEyjg8Kpd5yqQjFu3aMZ1HbbVLXy1PW5FCo5Rgk3u9Ff10u/mcX%2B0xcW938aP2b7m1nSWN/jLfFJI2DKw/4QrxR0I617TXiX7R2mabo3xg/Zt0vSLCG1toPjJfLDb28QREH/CFeKOAo4Fe2169P2ns17S3NZXte1%2Btr62vtfXubK4UUUVYBRRRQAUUUUAFFFFAHMeHPjb8GPGPxB1n4SeEfi74Y1XxX4cRX8Q%2BGdN1%2B2n1DS1bG1ri2RzJADuXBdRnI9aLD42/BjVfile/A3S/i74YufG2m2S3mo%2BD7fX7Z9UtbYhCJpLQP5yRkSR4dlAO9eeRXxx%2Bzx4e8Z%2BDPjZ4A0DxB8IPGunal8NPFXxHvPH3iZvA%2BotaajbazrLvafZrpICmo/bHntb1lt2l8hbRjceS0YFXfhr4A%2BIMH7T3hD4cXHwo8UW%2Bu%2BFP2lfG3jrxN4xuPDN1HpV34c1HS9bisfL1Joxb3UhGpaTam1SRpU%2BwMzIqwISAe9/t4f8AJEND/wCyzfDj/wBTXRKl/as/aF%2BGf7Jfw61n4h%2BI/HH2bW7/AE%2B5TwxoM90876lqBT91HDbjLNmTYpIG1Q3JAqh%2B2z8H/wBp/wCMPhTRdL%2BAHirwEttpPjDw3ruoeHPGGm3sL6q2l69Y6mY49UtpZBYhktCuWsLrcxA%2BQNuX5z/Y4%2BEn7UeseINa/al1v9nL4c%2BOfG58Y6/oo8U%2BO/jvqL3FgdM1e80147SKPwuYreLfayFGQBijdIwxjXWhgsnxFeGIx65vYtShFXu5bfFdKKtpK6ldOyi3quLG1MyVP2WDSTndOTekV35d5P8AlSaV1du2j9l/Ys/Zu134S/sxaJqGr6MZfF/jC1XW/HE%2BqQst9capeHzXadgM5iEhj2sMJhz94kn3HxlJplxY20s95ZqbZWmWxutwM%2BFI2ryrZB6cHnHFef8A/Ccf8FC/%2BjX/AIM/%2BH41b/5l6R/Gv/BQeTAk/Zc%2BDDYORn476scH1/5Favlc94e/tjGY7F%2B09/F8vMp3lGPLK8eW1nZe7aDbhaKjyqLkj0MudPLsJRw0F7tJWVtG9LNvzerb3u273sd/dajei4M9rdzQLaz20EFmGBDlgHcPnJJ2Ngc8YzVrS9bv9QvYBe%2BS9rqCTNDAIuUVGwpJydwZeTwMEivLX1/9vaTUl1d/2UfgqblRhZv%2BF76tkcY/6FfrgkZ96i0rVf2%2B9InM9v8AsxfB5yE2RLL8e9WIhTOdiD/hFuB/gPSvKoZHxDhsxjNVr03O7tJpWT0bi00%2BaF6fs4WhG0Za2TOyVfDTpNcutu36%2But3q9j1LWvhB8LfELGTV/h/pMrnrMtkiSf99KA361m/8KJ8LWX/ACLPiLxHow7JpviCfZ/3xIzr%2BGK8Ym%2BOX7dnjL4y638Drb9mj4Z2Oq%2BGPDGk67dXlr8ftUjglg1K41K3hRT/AMIwSzq2lTlgygASR4LEsF6/TPFn/BRCwsY7Of8AZu%2BD90yA5nn%2BPGq735J5x4WA9unavUnkuXYnMpxq5dBRtdVU4Jyel01BU6kXvq5NO3mjhlRoOCldX7Wa/HY7j/hX3xQ07jQ/jfdug%2B7Hq%2BjW9x%2BbII2/Wjb%2B0Lp/Ak8Iamq92W5tHb8vMGa47/hOP%2BChf/Rr/wAGf/D8at/8y9H/AAnH/BQv/o1/4M/%2BH41b/wCZeuj/AFew0P4FatT/AMNabX3T9ojL2a6N/f8A8Odj/wAJx8XrL/kJfBIzAfefTPEMEmfcLKIzR/wuWS241f4T%2BMbUj7zLo4nUfjC71x3/AAnH/BQv/o1/4M/%2BH41b/wCZeuX1b9o79u3R/jPoHwOuP2UPhI2qeIvC%2Br67Z3KfHXVPIjg065023mRyfDG4OzapAVAUghJMlSFDH9l5tT/hY%2Bf/AG/Toz/JU2HLPpL8j1r/AIaC%2BF0Xy6nq17YN3XUNGuocfUtHj9a2vCnxE8DeOWlTwh4ps9QaFQ0yW0wZkB6EjqK8z/4Tj/goX/0a/wDBn/w/Grf/ADL0xPF//BQKKVp4/wBlf4LK7j5nX466qCfqf%2BEWrfDUc9p117evTnDranKMvk1UlH70NKonq193/BPQ/HvjbUvDskFj4f0%2BO6uDNAbvzQ2yGGSURgnH8TEkKPbniq/xA1%2BC0upbKLwrp%2BotZ6c9/qH2/ACW6kjC/I25ztbAOBxyRXlHi7S/22PGs0V3rf7IfwQe5jmif7X/AMLw1TzWWNwwQt/wi2dpxgj0JxioPElr/wAFFPEB3j4A/BuBrnT2sNTcfG3VCbm2Yk7R/wAUwPLYBmAYZxuPHSvNx1LiLmxLpu6k48nK1okp3VpKybfI5O8k0pWtonE4zkmnqv67noF7pfwk1fWI4r34J%2BHbnTZLuO0kv7nTbdnWZ494HlmMgqOjMWBB6AjmqPh/4Tfs6eNNQ%2ByXX7O3h2zS4tjc2Ex0a3X7TFu2lsIoKHODtPYg15H8YPiN%2B3d8HdNtPGniT9mf4RXGh3njjQ7BNLsfjXqhmF7ql/a6RAxkbw2o8hZrxJXAXeArFS2Ah63wmn/BRXw9d2t1qH7PfwXvPsGmLZWgT426tEQu7LOx/wCEZbcxwvTA4PHPHNQwudyxsfb04uHNreNK1tU%2BnMo2s4fa5r82hyywOFqS9%2BjB%2BsYf/InoMv7IX7NMrb/%2BFO6Qh9YY2j/9BYU3/hkH9nYf6r4eeX/1x1a7T/0GUVxfi67/AOCiHiyKCOH4GfDHSTAzHfpH7QOqRmTOOG3eFGyBjj6msP8A4Rz/AIKTR/6jwX4IH/XT9oC9b%2Bfg%2BvQxVKdGu40sujUj/MpUY3/7dkk1bbciWU5ZfTDQ/wDAYr9Eeof8Mi/AIfc8Kagn/XPxRqK/yuKP%2BGRvgT28P6wPp4w1T/5Jry/%2Bxv8Agp0v%2Br8IfD0f73xzu2/91CuX%2BNvxC/4KTfAf4MeLvjj4p8CeA7rS/Bnhi/13UrWw%2BNNw1xNb2ltJcSJGH8JqpcrGQoZlGSMkDmufmr/9Cp/%2BB0P/AJJE/wBlZb/0DR%2B6J7x/wyN8CO/h3Vz9fF%2BqH/25o/4ZE%2BAHR/B96/8A108S6g38568v/sr/AIKhn73hP4c/h8bbof8Auo0f2J/wU2b/AFvg/wCH5/3Pjrdr/wC6hRzV3tlT/wDA6H/yTD%2Byst/6Bo/dE9Q/4ZA/Zyb/AFvw0hl/676hcyf%2BhSmpbf8AZI/ZptTmP4MaGx/6a2u//wBCJryr/hGf%2BCkL8z%2BCPBTeyftC3yfy8IUf8Ij/AMFC3/1/w18Gv/3crqyf%2BgeFBQvrnTKo/OpQ/wDkGNZVlq2wsP8AwGH/AMiz2az/AGcv2frDBtvgj4UBHRm8P27H8yhNa9j8MPhppeP7M%2BHmhW%2BOnkaRCmPyWvAv%2BEG/brk/4/fgh4FufUT/ALUHiD%2BnhkVy/wAEb39pv49/Bjwh8ctB/Y7%2BGg03xn4X0/XdOt9Z/aT19p4re7to7iNJVXw8yBwsgDBSwyDgkc1tGWcr%2BHgKUfWrH/2ygzeGEw9P4KMF6KK/KB9dImlaPDtRbe1jHYBUX%2BlUL34geA9Nz/aPjbSLfHXz9SiTH5tXz/B8Nv2o4H8wfsNfAiRvW4%2BOmryn/wAf8MGtOy0b9r/TsGw/Yc/Z9hI7x/GPUAfz/wCEVrZT4nltToQ9Z1ZflCB0r2iVkkvvPVrz49fBqybZJ8SNKkPYW9yJSfpszmoD8fPAFxxo0Wtak3ZdP8PXcmfofLAP51w9n4m/b509dth%2Byf8ABKAekPxz1Vf5eFqn/wCE4/4KF/8ARr/wZ/8AD8at/wDMvR9X4lqfFiKUf8NKUvxnVX4oLVe6%2B7/gnY/8Lc1q8%2BTRPgz4snY9DdWsNqp/GWUEflR/wlnxt1D5NP8AhHYWWekmqeI1OPqsMb/zrybwD%2B0d%2B3b8RPFfjfwho/7KHwkhuPAfiiLQtVkufjrqgSeeTStP1MPFt8MElPJ1GFSWCnejjGAGbqP%2BE4/4KF/9Gv8AwZ/8Pxq3/wAy9H9lZnU/i4%2Bp/wBuQpQ/9sm/xDkk95fkdj/Z/wC0DqXyXXiXwtpSnvZ6bPdOPxkkQH8q1/CPhrxho13Ld%2BKfiJcaz5ke1IG06G3jiOc7gEG4ntyxrzf/AITj/goX/wBGv/Bn/wAPxq3/AMy9H/Ccf8FC/wDo1/4M/wDh%2BNW/%2BZet8PkuHoVo1pVas5Lbnqza/wDAVywfzixqCTvd/ed743%2BGMfi%2B7fUofEuo2c7C3wlvcbYv3MhdSQoDZBZsYYYJzUXj/wAIjULB7s38/wBtuIms2S12ot3ASzeTIGD5UKXyww2C3Iya8%2BvfFP8AwURu7m3nj/Zy%2BEECwOWeKH48aptm9mz4VJx9Mda5YfHT9tvxl8Y9c%2BBNz%2ByT8JW1Lw14a0jX7m5f486stu8Go3Gp20KIV8M7i6tpk5cFQuJI8FiWC%2BbmeSLF4bGQw9FRqVLJSc9JO3xpLm5XHmmleOr6OLae1OFCNSMp6rqtf81%2BHQ9r1LwvZXU9h4y0HS51u5TG8xtJFztMW3eElPl7wuF3kbscZqtMmkxST6jpoNgRaSTAxgRNJcxSESmQJgSPwAc54PHWvPdP1L9v3TtKTRrf9mb4QLAihVWL4%2B6vGRyTkFPCwIJzzzViPXf29IrSOx/4ZO%2BCjxRNujWX47as%2BGzndlvC5Oc9%2BteHX4WzTHR53y05TjBzV24qqo8rcOTllFNtzk7rmlGGmjOyFfDUX7qvZu2iTs%2B9769PS56FaDZrce63KajJqXmFxGcvbuis2W7qOVHPBUCum1Wzur%2Bxe0tNTltJGxi4hVSyjPONwI5HH415D/wnH/BQr/o1/wCDP/h%2BNW/%2BZej/AITj/goX/wBGv/Bn/wAPxq3/AMy9fR5Vw/Ty7C18POblGq9bXg7NNN3jJPnfM%2BaacW7R6q5jWxLqzjJKzXz/AD6eRD%2B0jaNY/GL9m20e7muDH8ZL4GadgXf/AIorxRySABn8K9sr5X%2BJ/iX9q3V/2k/2dLX41/Bf4e%2BH9HHxc1Fo77wt8Tr7WLkz/wDCF%2BJtqGCfRbJQhBYl/NJBAGw5JX6or3qVKFGlGnBWUUkt3olZattv1bb7tvU523J3YUUUVoIKKKKACiiigAooooAKo%2BKPENh4S8Naj4r1UObXTLGa7uREuW8uNC7YHc4U1eqO7tLW/tZbG9t0mhmjaOaKVQyupGCpB4II4xQB83/sa/tS/Hz4qeMNG8K/H/TfCSP43%2BE%2BnfEDwuvhPT7m3/su3uJQk%2BmXTT3EwupIRNabbuMQLKXl/cRbBu8m0f8A4KO/HLwV8L9N%2BKWs%2BAvA8%2BmfFX4X6r46%2BE2i6NptzZPps39q6VbW9rqszXEq3TXDa/ZTyzwxQbGjuhsclHPv37P/AOwv4Q/Zz1i11rwn8ZfHWqSaZoun6BoaeILnTrgaZ4fsjMYNGhK2SMbfdMC00he8k8iEPcsIwKwdJ/4JjfAi00bW/Cuu%2BM/GWtaJe%2BEtR8MeFtH1HUrZIvBuk3t1Fdz22lvb20cyfv7azdJLiSeSP7Dbqjqse0gHYfsu/F34r%2BMfEvxD%2BD/xyufD194n%2BHniW1sZtb8K6RPp9jqlpdaba30My2s9zcyW7qZ5YWQzyA%2BQJAQJNieu15/8Af2fNI%2BAtn4guT4%2B8Q%2BLte8Wa4NW8TeK/FbWn27UbhbWC0i3LZW9vbxJHb20EapFCi/IWILu7t6BQAV8u/Ab9sb42/ED4xeFpPG2meFl8B/EzWvF2meCrPS9NuYtV0uTRbuWKGS8uHuXiulu7e2uZiscMBt28uPM%2BTIPqKvDPB37BngbwF8S5PiR4X%2BLvjeAWt7q934V0CSfTpNP8MT6rfJe6m9kj2RkJuJFdf8ASHn8mOeVLfyFbAAKd78VPjl4D/ba8NfCrxDqPgHXtM8fWuqyrpnh/wAL3Vrrfh/SLCNpLe%2Bvbx7yWO7gM8y220W9vtmvl2Fwsmcn/gmv%2B1P8Xf2lvhfb6j%2B0X4n0S08fnwpomreI/h7a/CfW/CV94YmvLd3lili1e7nkvofOSWGO6iWOJmtZcFzkJ1fw/wD2MT8Ov2hPGf7Q%2Bl/tMfES8vPHV2Zda0PUotCltI4kgeG1tIJv7MF7DbWu9pIYRc7BI8juJGmmMm38GP2Y7X4U/EHWfi34p%2BMvjDx/4r1rR7TSJNe8Y/2bHJbafbSzzR20MOm2dpAi%2BbcSuzmMyOSoZyqIqgHp9FFFAHy7%2B01%2B2N8bfhX8U/GL/DzTPCzeDfhNovhvU/HdtrOm3M2o6xHql9cRTR2M0dzHHaNbWtv54aSK4E8koixCFMhm/a4/aV%2BJnwT/AGmPCekrq/h7wl4EbwpcXWu/EHxF8ItZ1%2B3tJmv7aL7HJqFjd29vo8UkY8wzXRMeYkJ4TFdt8Z/2Ifhx8bvikfiZrnjnxVpcWo2ukWvi/wANaNdWqad4pg0u9kvbGK%2BWW3kmCxzTS5%2BzywGWOQxTGWMKgl%2BOH7I0/wC0H4Ob4afEP9pP4hN4V1LRZNJ8X%2BG7FNFht/E9pIzCaK7kGm%2BfEJInaF/sktvmM44b5qAPPv8Ahsb42f8ADQPmf2Z4W/4Vj/wuf/hWn2D%2Bzbn%2B2/tn9m%2Bf/an2r7T5Hlfbf9F%2By/Z93l/v/Pz%2B5r6irxn/AIYh%2BHH/AAv/AP4Xt/wnPir7P/wlf/CVf8IJ9qtf7E/t/wDs3%2Bzf7U2fZ/tPm/Zv%2BWX2j7P5v7/yfO/eV7NQAV89fteftE/tAeA/iBB8Lv2cLXwiup6f8Ndd8b6zceMtNubqG6gsJLWKHTYRb3EBgkuHuJM3TGVYBCP3Exkwv0LXkf7S/wCx54P/AGmdQsta1H4k%2BL/COoW/h/U/D99qPg28tYZtS0XUPIN5p8xubacLHI1tCwliEdxEUJimj3vuAOT/AGqvj549sv2J/wDhrz4R%2BJvCWk6XYeC18XS6V418BXOuyahi3ju7K2t47fUrLyrkzeWqHMhMjR7QpAJ5TUv2q/2ovh9%2B0r4O%2BEXx78R%2BEPBuhXHgDwbc6/r3/Cotev8ATdZ8UajfalaajpdrrEd%2BtlpIV7WxW3S786Rm1CMZlJVT7V43/Zg8F/EL4eaR8KfE3iTWX8P6J4t0rXLHS7f7JDFs028hvLLTmCW43WcctvAdp/eMsQV5GBbdU%2BNf7LUHx78TWdx43%2BN/jWPwpb32nXt58O7A6ZHpOoz2V0l1C80psmvsedFCzxx3SRuIgrKVZ1cA9UooooA8X/4KC/F344fs/fsj%2BNPj18Ar3wpHrHgnQrvXLqDxhotzfW13aWttLM9uiW11bMkrsiKJC5VAWJR%2BBV39sH4n%2BLvAng7w14F%2BHumaDca98R/GVr4U02XxVpsl7plqs8M9xczXNtHLC1yi2lrc4hEsfmOUUuoJI1P2sf2cbL9rT4Ea9%2Bz7rXxV8U%2BEdJ8T2Utjrl/4QXTvtdzZSxPFNbbr%2B0uo0R1flkRZAVG115zneN/2VpPiV8OrPwR48/aC8dajqek6np2qaB4xMWjwanpOpWZJW8hEGnJbM8gZ1kSWCSFkkdPLCsVIB8%2B3v7fn7Vfibw1qGgfDnQvAEHi74f8Ahrxpq/xAk1fSb2Sw1d/D%2BsSaZFa2CJdo9kL4wTT%2BdK9z9kGxDFcklh9i%2BBPF%2Bm/EHwRo3j3Ro5Us9b0q31C0SZcOsU0SyKGA6HDDNeC%2BI/8AgmT8Idc8D6d4M034sfEDRZo9J1/S/E%2BvaRqdkl/4rstbvPt2rQ37yWjoDcXW6XzbVLeWAyOLd4FYrX0Rpmm6fo2m2%2Bj6TZR21raQJDbW8KBUijUBVRQOAAAAB7UAT1zXxik%2BJsPwy1if4Oa1oOneJYrXfpl74m0qa%2BsYirAuZYIJ7eSUeWHwqyx/MVy2M10tYXxM8Hap8QfAep%2BC9G%2BIOs%2BFbjUbfyU8QeH4bOS8swSCzRLe29xbkkAqfMhcYY4AOCADgvgJ8UfjB%2B0N%2BxH8P/jX4fufDWj%2BNfHHw40TXGlvNKuLjS7O8vLKC4lP2ZbhJpIlMj7Y/PViAoMnVq8Bvf2zP2o9B%2BDmnp4C0jwrdQaP8c7vwJqHjzwd8Gtd17R5NCs9Eurl9RtNE029a6jWLUYU0lyLmWJJYJWztKhfYfCX7DU/gz9ktP2PNJ/a3%2BK66Da%2BCE8K6Vr8M%2BiW2sabYxokUTwXFtpcarMkCCFZShO0lzmXEo0fB/7I3ib4e/BDSfgb4B/a8%2BI2iWuhXCLpOr6XonhWG4tbBLdYI9NSFdE%2BxrbJtDqRb%2BcGOPN2YQAHoXwd8b6b8SvhP4a%2BIGkeONI8TW%2Bs6Ha3aeIfD9o1vY6kXiVjcQRPLK0MbklljaSRkBCs7EEnpK5f4K/CHwb8A/hToPwc%2BH8VyukeHtPS0s2vrlpp5QMlpZZG5eR2LOzd2YnA6V1FABXi/wCxz8Xfjh8Srr4peDvj9e%2BFLvWfh/8AExvD1tfeD9FubC1uLVtG0rUkLRXN1cuZFbUHjLhwriNWCJkivaK8X%2BBP7HmsfAnxp4v8a2n7WXxK8RyeOPFcPiDXrHxDaeHRA92lrb2ZCfZNIgdI3t7S2iYB84hDKVdnZgDwzwR%2B3/8AFXwZ8N/jF8RPi9D4atvF3hvS/EGsaJ8MG%2BFGteGb6/jsr99PsrxtSv7qSLVbeSNdPWS5tYdkX2mLJA2Ifef2ZPi58Y/Efj7x/wDAv4/3fhnUPE3gW60yZdc8IaPcadY6hY39p5sTfZri5uXhlSWK5iYec4ZY45Bs3mNMzXP2CPA3xE1XxBqvx6%2BMHjn4hnXPBOr%2BErSDxJPp1smi6TqckD3sNp/ZtlanzHNpaYnmMsyfZk2upLlux%2BAH7OelfAY%2BIdYuPiR4m8aeIvFeow3fiDxZ4wkszfXfkW0dtBFtsra2t44o4owFWOJcs8jtueR2YA9EooooA8X%2BCvxd%2BOGtftcfFn4C/FS98KXWj%2BGNC8Pa54Qn8P6Lc2tzFaalc6zD9nvHmupluJUXTIm8yNIFzK42HANc/wCJPiJ%2B0t4V/b88F/CDTPFXw51Xw54u0jWNY8Q2cHw%2BvLfWdL0HTkSK336j/arxSyHUNRt1VWtFVka6KqpUmug0X9jzWNA/aL8YftJad%2B1l8ShqHjPSrLTL3QntPDp0%2BztLOe6mtIoB/ZHnjyje3ShpJpGZZjvLlUK9ppfwL8K6X8cPEv7QKatqc2v%2BJPDGm6A3nzRmHTrKylu5kW2URgozy3sryMxfeUiHAjUAA8e/4JxftT/F39o/wL5v7RfifRLLx3/wjOkarrPw8t/hPrfhS%2B8ONdRymRZF1e7mfUYDKjxR3UCRxFraXlycJ9K15d8G/wBl%2B2%2BFvxF1T4v%2BLfjT4y%2BIPinUtEt9GTW/GR02N7PT4ZZJhbwxabZWkChpZWd3aNpGIQF9qKo9RoAK8H/a1%2BM37QXwG8SeF/F3gzxB4IvfD2teLtC8O23gW%2B8OXkmua5c3t8sNy1pex3qxQmC1aS62NaTDy7SZneNAXj94rxn4k/scr8RP2ndE/amt/wBo74gaFqvh/QxpWmaBpkOiXGlwQPN5ty0aX2mXE0MtyBHHNLFKjtHDGisgHIBwv7bH7UPxm%2BFvjLxBZ/Brw54Ouk%2BE/wAKbr4leJh4s0qe5m1GFWuoYtPsJIriEWM8sNrqCm7cTqm6NfJdXcirpP7bPxi1r42Wuu2OneFz8Krv4vp8OobFtLuRrhuW0sXI1Q3P2nyBF9sItvsn2fd5f7/z8/ua7j46fsI%2BCv2g2im8bfGDxxbTXfhe78MeL59IuNOgbxXoVzMJZNMvh9iKrF99Fkthbzok0oWUeY5NqP8AYc%2BGkPx7X44Q%2BNfFCWieKR4oXwEtzaDQ114ab/Zo1MJ9m%2B0%2Bb9m48r7R9n8z995PnfvKAPaKKKKACiiigAooooAKKKKACiiigAooooAKKKKACiiigAooooAKKKKACiiigAooooAKKKKACiiigAooooAKKKKACiiigAooooAKKKKACiiigAooooAKKKKACiiigAooooAKKKKACiiigAooooAKKKKACiiigD//2Q%3D%3D\">"
      ]
     },
     "metadata": {},
     "output_type": "display_data"
    }
   ],
   "source": [
    "try:\n",
    "    display_html(HTML(anim.to_html5_video()))\n",
    "# In case the build-in renderers are unaviable, fall back to\n",
    "# a custom one, that doesn't require external libraries\n",
    "except RuntimeError:\n",
    "    anim.save(None, writer=matplotlib_utils.SimpleMovieWriter(0.001))"
   ]
  },
  {
   "cell_type": "markdown",
   "metadata": {},
   "source": [
    "# Logistic regression\n",
    "Your assignment is to implement the logistic regression\n",
    "\n",
    "Plan:\n",
    "* Use a shared variable for weights\n",
    "* Use a matrix placeholder for `X`\n",
    " \n",
    "We shall train on a two-class MNIST dataset\n",
    "* please note that target `y` are `{0,1}` and not `{-1,1}` as in some formulae"
   ]
  },
  {
   "cell_type": "code",
   "execution_count": 36,
   "metadata": {},
   "outputs": [
    {
     "name": "stdout",
     "output_type": "stream",
     "text": [
      "y [shape - (360,)]: [0 1 0 1 0 1 0 0 1 1]\n",
      "X [shape - (360, 64)]:\n"
     ]
    }
   ],
   "source": [
    "from sklearn.datasets import load_digits\n",
    "mnist = load_digits(2)\n",
    "\n",
    "X, y = mnist.data, mnist.target\n",
    "\n",
    "print(\"y [shape - %s]:\" % (str(y.shape)), y[:10])\n",
    "print(\"X [shape - %s]:\" % (str(X.shape)))"
   ]
  },
  {
   "cell_type": "code",
   "execution_count": 37,
   "metadata": {},
   "outputs": [
    {
     "name": "stdout",
     "output_type": "stream",
     "text": [
      "X:\n",
      " [[  0.   0.   5.  13.   9.   1.   0.   0.   0.   0.]\n",
      " [  0.   0.   0.  12.  13.   5.   0.   0.   0.   0.]\n",
      " [  0.   0.   1.   9.  15.  11.   0.   0.   0.   0.]]\n",
      "y:\n",
      " [0 1 0 1 0 1 0 0 1 1]\n"
     ]
    },
    {
     "data": {
      "image/png": "[encoded data removed]",
      "text/plain": [
       "<matplotlib.figure.Figure at 0x7f5bf5b56b70>"
      ]
     },
     "metadata": {},
     "output_type": "display_data"
    }
   ],
   "source": [
    "print('X:\\n',X[:3,:10])\n",
    "print('y:\\n',y[:10])\n",
    "plt.imshow(X[0].reshape([8,8]));"
   ]
  },
  {
   "cell_type": "markdown",
   "metadata": {},
   "source": [
    "It's your turn now!\n",
    "Just a small reminder of the relevant math:\n",
    "\n",
    "$$\n",
    "P(y=1|X) = \\sigma(X \\cdot W + b)\n",
    "$$\n",
    "$$\n",
    "\\text{loss} = -\\log\\left(P\\left(y_\\text{predicted} = 1\\right)\\right)\\cdot y_\\text{true} - \\log\\left(1 - P\\left(y_\\text{predicted} = 1\\right)\\right)\\cdot\\left(1 - y_\\text{true}\\right)\n",
    "$$\n",
    "\n",
    "$\\sigma(x)$ is available via `tf.nn.sigmoid` and matrix multiplication via `tf.matmul`"
   ]
  },
  {
   "cell_type": "code",
   "execution_count": 38,
   "metadata": {},
   "outputs": [],
   "source": [
    "from sklearn.model_selection import train_test_split\n",
    "X_train, X_test, y_train, y_test = train_test_split(\n",
    "    X, y, random_state=42)"
   ]
  },
  {
   "cell_type": "markdown",
   "metadata": {},
   "source": [
    "__Your code goes here.__ For the training and testing scaffolding to work, please stick to the names in comments."
   ]
  },
  {
   "cell_type": "code",
   "execution_count": 2,
   "metadata": {
    "collapsed": true
   },
   "outputs": [],
   "source": [
    "# Model parameters - weights and bias\n",
    "# weights = tf.Variable(...) shape should be (X.shape[1], 1)\n",
    "# b = tf.Variable(...)"
   ]
  },
  {
   "cell_type": "code",
   "execution_count": 3,
   "metadata": {
    "collapsed": true
   },
   "outputs": [],
   "source": [
    "# Placeholders for the input data\n",
    "# input_X = tf.placeholder(...)\n",
    "# input_y = tf.placeholder(...)"
   ]
  },
  {
   "cell_type": "code",
   "execution_count": 2,
   "metadata": {
    "collapsed": true
   },
   "outputs": [],
   "source": [
    "# The model code\n",
    "\n",
    "# Compute a vector of predictions, resulting shape should be [input_X.shape[0],]\n",
    "# This is 1D, if you have extra dimensions, you can  get rid of them with tf.squeeze .\n",
    "# Don't forget the sigmoid.\n",
    "# predicted_y = <predicted probabilities for input_X>\n",
    "\n",
    "# Loss. Should be a scalar number - average loss over all the objects\n",
    "# tf.reduce_mean is your friend here\n",
    "# loss = <logistic loss (scalar, mean over sample)>\n",
    "\n",
    "# See above for an example. tf.train.*Optimizer\n",
    "# optimizer = <optimizer that minimizes loss>"
   ]
  },
  {
   "cell_type": "markdown",
   "metadata": {},
   "source": [
    "A test to help with the debugging"
   ]
  },
  {
   "cell_type": "code",
   "execution_count": null,
   "metadata": {
    "collapsed": true
   },
   "outputs": [],
   "source": [
    "validation_weights = 1e-3 * np.fromiter(map(lambda x:\n",
    "        s.run(weird_psychotic_function, {my_scalar:x, my_vector:[1, 0.1, 2]}),\n",
    "                                   0.15 * np.arange(1, X.shape[1] + 1)),\n",
    "                                   count=X.shape[1], dtype=np.float32)[:, np.newaxis]\n",
    "# Compute predictions for given weights and bias\n",
    "prediction_validation = s.run(\n",
    "    predicted_y, {\n",
    "    input_X: X,\n",
    "    weights: validation_weights,\n",
    "    b: 1e-1})\n",
    "\n",
    "# Load the reference values for the predictions\n",
    "validation_true_values = np.loadtxt(\"validation_predictons.txt\")\n",
    "\n",
    "assert prediction_validation.shape == (X.shape[0],),\\\n",
    "       \"Predictions must be a 1D array with length equal to the number \" \\\n",
    "       \"of examples in input_X\"\n",
    "assert np.allclose(validation_true_values, prediction_validation)\n",
    "loss_validation = s.run(\n",
    "        loss, {\n",
    "            input_X: X[:100],\n",
    "            input_y: y[-100:],\n",
    "            weights: validation_weights+1.21e-3,\n",
    "            b: -1e-1})\n",
    "assert np.allclose(loss_validation, 0.728689)"
   ]
  },
  {
   "cell_type": "code",
   "execution_count": null,
   "metadata": {},
   "outputs": [],
   "source": [
    "from sklearn.metrics import roc_auc_score\n",
    "s.run(tf.global_variables_initializer())\n",
    "for i in range(5):\n",
    "    s.run(optimizer, {input_X: X_train, input_y: y_train})\n",
    "    loss_i = s.run(loss, {input_X: X_train, input_y: y_train})\n",
    "    print(\"loss at iter %i:%.4f\" % (i, loss_i))\n",
    "    print(\"train auc:\", roc_auc_score(y_train, s.run(predicted_y, {input_X:X_train})))\n",
    "    print(\"test auc:\", roc_auc_score(y_test, s.run(predicted_y, {input_X:X_test})))"
   ]
  },
  {
   "cell_type": "markdown",
   "metadata": {},
   "source": [
    "### Coursera submission"
   ]
  },
  {
   "cell_type": "code",
   "execution_count": 37,
   "metadata": {
    "collapsed": true
   },
   "outputs": [],
   "source": [
    "grade_submitter = grading.Grader(\"BJCiiY8sEeeCnhKCj4fcOA\")"
   ]
  },
  {
   "cell_type": "code",
   "execution_count": 38,
   "metadata": {
    "collapsed": true
   },
   "outputs": [],
   "source": [
    "test_weights = 1e-3 * np.fromiter(map(lambda x:\n",
    "    s.run(weird_psychotic_function, {my_scalar:x, my_vector:[1, 2, 3]}),\n",
    "                               0.1 * np.arange(1, X.shape[1] + 1)),\n",
    "                               count=X.shape[1], dtype=np.float32)[:, np.newaxis]"
   ]
  },
  {
   "cell_type": "markdown",
   "metadata": {},
   "source": [
    "First, test prediction and loss computation. This part doesn't require a fitted model."
   ]
  },
  {
   "cell_type": "code",
   "execution_count": 39,
   "metadata": {
    "collapsed": true
   },
   "outputs": [],
   "source": [
    "prediction_test = s.run(\n",
    "    predicted_y, {\n",
    "    input_X: X,\n",
    "    weights: test_weights,\n",
    "    b: 1e-1})"
   ]
  },
  {
   "cell_type": "code",
   "execution_count": 40,
   "metadata": {
    "collapsed": true
   },
   "outputs": [],
   "source": [
    "assert prediction_test.shape == (X.shape[0],),\\\n",
    "       \"Predictions must be a 1D array with length equal to the number \" \\\n",
    "       \"of examples in X_test\""
   ]
  },
  {
   "cell_type": "code",
   "execution_count": 41,
   "metadata": {
    "collapsed": true
   },
   "outputs": [],
   "source": [
    "grade_submitter.set_answer(\"0ENlN\", prediction_test)"
   ]
  },
  {
   "cell_type": "code",
   "execution_count": 42,
   "metadata": {
    "collapsed": true
   },
   "outputs": [],
   "source": [
    "loss_test = s.run(\n",
    "    loss, {\n",
    "        input_X: X[:100],\n",
    "        input_y: y[-100:],\n",
    "        weights: test_weights+1.21e-3,\n",
    "        b: -1e-1})\n",
    "# Yes, the X/y indices mistmach is intentional"
   ]
  },
  {
   "cell_type": "code",
   "execution_count": 43,
   "metadata": {
    "collapsed": true
   },
   "outputs": [],
   "source": [
    "grade_submitter.set_answer(\"mMVpM\", loss_test)"
   ]
  },
  {
   "cell_type": "code",
   "execution_count": 44,
   "metadata": {
    "collapsed": true
   },
   "outputs": [],
   "source": [
    "grade_submitter.set_answer(\"D16Rc\", roc_auc_score(y_test, s.run(predicted_y, {input_X:X_test})))"
   ]
  },
  {
   "cell_type": "markdown",
   "metadata": {},
   "source": [
    "Please use the credentials obtained from the Coursera assignment page."
   ]
  },
  {
   "cell_type": "code",
   "execution_count": 45,
   "metadata": {},
   "outputs": [
    {
     "name": "stdout",
     "output_type": "stream",
     "text": [
      "Submitted to Coursera platform. See results on assignment page!\n"
     ]
    }
   ],
   "source": [
    "grade_submitter.submit(<email>, <token>)"
   ]
  }
 ],
 "metadata": {
  "kernelspec": {
   "display_name": "venv_Python2",
   "language": "python",
   "name": "venv_python2"
  },
  "language_info": {
   "codemirror_mode": {
    "name": "ipython",
    "version": 2
   },
   "file_extension": ".py",
   "mimetype": "text/x-python",
   "name": "python",
   "nbconvert_exporter": "python",
   "pygments_lexer": "ipython2",
   "version": "2.7.10"
  }
 },
 "nbformat": 4,
 "nbformat_minor": 1
}
